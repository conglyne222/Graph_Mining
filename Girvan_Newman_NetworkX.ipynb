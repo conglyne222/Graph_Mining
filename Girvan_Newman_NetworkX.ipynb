{
  "nbformat": 4,
  "nbformat_minor": 0,
  "metadata": {
    "colab": {
      "name": "Project03_Girvan_Newman_NetworkX.ipynb",
      "provenance": [],
      "collapsed_sections": [],
      "toc_visible": true,
      "authorship_tag": "ABX9TyPfZcFLmvbMr6ccKMXtzYTw",
      "include_colab_link": true
    },
    "kernelspec": {
      "name": "python3",
      "display_name": "Python 3"
    },
    "language_info": {
      "name": "python"
    }
  },
  "cells": [
    {
      "cell_type": "markdown",
      "metadata": {
        "id": "view-in-github",
        "colab_type": "text"
      },
      "source": [
        "<a href=\"https://colab.research.google.com/github/conglyne222/Graph_Mining/blob/main/Girvan_Newman_NetworkX.ipynb\" target=\"_parent\"><img src=\"https://colab.research.google.com/assets/colab-badge.svg\" alt=\"Open In Colab\"/></a>"
      ]
    },
    {
      "cell_type": "code",
      "execution_count": null,
      "metadata": {
        "id": "WVxE8OC1j5N9"
      },
      "outputs": [],
      "source": [
        "import csv\n",
        "import networkx as nx\n",
        "import itertools\n",
        "import pandas as pd\n",
        "import matplotlib.pyplot as plt\n",
        "import networkx as nx\n",
        "from networkx.algorithms.community.centrality import girvan_newman\n",
        "from networkx.algorithms import community\n",
        "import operator"
      ]
    },
    {
      "cell_type": "markdown",
      "source": [
        "#Download data"
      ],
      "metadata": {
        "id": "Esl7M4NeKRRI"
      }
    },
    {
      "cell_type": "code",
      "source": [
        "!wget https://raw.githubusercontent.com/mansiganatra/Girvan-Newman-Implementation-using-Spark/master/ub_sample_data.csv"
      ],
      "metadata": {
        "colab": {
          "base_uri": "https://localhost:8080/"
        },
        "id": "iwBfRjICPr6Q",
        "outputId": "51ddfb05-b909-4bdd-858b-e505cfdeed45"
      },
      "execution_count": null,
      "outputs": [
        {
          "output_type": "stream",
          "name": "stdout",
          "text": [
            "--2022-06-15 06:05:55--  https://raw.githubusercontent.com/mansiganatra/Girvan-Newman-Implementation-using-Spark/master/ub_sample_data.csv\n",
            "Resolving raw.githubusercontent.com (raw.githubusercontent.com)... 185.199.111.133, 185.199.109.133, 185.199.108.133, ...\n",
            "Connecting to raw.githubusercontent.com (raw.githubusercontent.com)|185.199.111.133|:443... connected.\n",
            "HTTP request sent, awaiting response... 200 OK\n",
            "Length: 1777828 (1.7M) [text/plain]\n",
            "Saving to: ‘ub_sample_data.csv.1’\n",
            "\n",
            "ub_sample_data.csv. 100%[===================>]   1.70M  --.-KB/s    in 0.06s   \n",
            "\n",
            "2022-06-15 06:05:55 (29.3 MB/s) - ‘ub_sample_data.csv.1’ saved [1777828/1777828]\n",
            "\n"
          ]
        }
      ]
    },
    {
      "cell_type": "markdown",
      "source": [
        "# NetworkX/Girvan-Newman Functions"
      ],
      "metadata": {
        "id": "R5R-mm1NKU65"
      }
    },
    {
      "cell_type": "code",
      "source": [
        "import numpy as np\n",
        "import networkx as nx\n",
        "\n",
        "\"\"\"Functions for computing communities based on centrality notions.\"\"\"\n",
        "\n",
        "import networkx as nx\n",
        "\n",
        "__all__ = [\"girvan_newman\"]\n",
        "\n",
        "\n",
        "def girvan_newman(G, most_valuable_edge=None):\n",
        "    \"\"\"Finds communities in a graph using the Girvan–Newman method.\n",
        "    Parameters\n",
        "    ----------\n",
        "    G : NetworkX graph\n",
        "    most_valuable_edge : function\n",
        "        Function that takes a graph as input and outputs an edge. The\n",
        "        edge returned by this function will be recomputed and removed at\n",
        "        each iteration of the algorithm.\n",
        "        If not specified, the edge with the highest\n",
        "        :func:`networkx.edge_betweenness_centrality` will be used.\n",
        "    Returns\n",
        "    -------\n",
        "    iterator\n",
        "        Iterator over tuples of sets of nodes in `G`. Each set of node\n",
        "        is a community, each tuple is a sequence of communities at a\n",
        "        particular level of the algorithm.\n",
        "    Examples\n",
        "    --------\n",
        "    To get the first pair of communities::\n",
        "        >>> G = nx.path_graph(10)\n",
        "        >>> comp = girvan_newman(G)\n",
        "        >>> tuple(sorted(c) for c in next(comp))\n",
        "        ([0, 1, 2, 3, 4], [5, 6, 7, 8, 9])\n",
        "    To get only the first *k* tuples of communities, use\n",
        "    :func:`itertools.islice`::\n",
        "        >>> import itertools\n",
        "        >>> G = nx.path_graph(8)\n",
        "        >>> k = 2\n",
        "        >>> comp = girvan_newman(G)\n",
        "        >>> for communities in itertools.islice(comp, k):\n",
        "        ...     print(tuple(sorted(c) for c in communities))\n",
        "        ...\n",
        "        ([0, 1, 2, 3], [4, 5, 6, 7])\n",
        "        ([0, 1], [2, 3], [4, 5, 6, 7])\n",
        "    To stop getting tuples of communities once the number of communities\n",
        "    is greater than *k*, use :func:`itertools.takewhile`::\n",
        "        >>> import itertools\n",
        "        >>> G = nx.path_graph(8)\n",
        "        >>> k = 4\n",
        "        >>> comp = girvan_newman(G)\n",
        "        >>> limited = itertools.takewhile(lambda c: len(c) <= k, comp)\n",
        "        >>> for communities in limited:\n",
        "        ...     print(tuple(sorted(c) for c in communities))\n",
        "        ...\n",
        "        ([0, 1, 2, 3], [4, 5, 6, 7])\n",
        "        ([0, 1], [2, 3], [4, 5, 6, 7])\n",
        "        ([0, 1], [2, 3], [4, 5], [6, 7])\n",
        "    To just choose an edge to remove based on the weight::\n",
        "        >>> from operator import itemgetter\n",
        "        >>> G = nx.path_graph(10)\n",
        "        >>> edges = G.edges()\n",
        "        >>> nx.set_edge_attributes(G, {(u, v): v for u, v in edges}, \"weight\")\n",
        "        >>> def heaviest(G):\n",
        "        ...     u, v, w = max(G.edges(data=\"weight\"), key=itemgetter(2))\n",
        "        ...     return (u, v)\n",
        "        ...\n",
        "        >>> comp = girvan_newman(G, most_valuable_edge=heaviest)\n",
        "        >>> tuple(sorted(c) for c in next(comp))\n",
        "        ([0, 1, 2, 3, 4, 5, 6, 7, 8], [9])\n",
        "    To utilize edge weights when choosing an edge with, for example, the\n",
        "    highest betweenness centrality::\n",
        "        >>> from networkx import edge_betweenness_centrality as betweenness\n",
        "        >>> def most_central_edge(G):\n",
        "        ...     centrality = betweenness(G, weight=\"weight\")\n",
        "        ...     return max(centrality, key=centrality.get)\n",
        "        ...\n",
        "        >>> G = nx.path_graph(10)\n",
        "        >>> comp = girvan_newman(G, most_valuable_edge=most_central_edge)\n",
        "        >>> tuple(sorted(c) for c in next(comp))\n",
        "        ([0, 1, 2, 3, 4], [5, 6, 7, 8, 9])\n",
        "    To specify a different ranking algorithm for edges, use the\n",
        "    `most_valuable_edge` keyword argument::\n",
        "        >>> from networkx import edge_betweenness_centrality\n",
        "        >>> from random import random\n",
        "        >>> def most_central_edge(G):\n",
        "        ...     centrality = edge_betweenness_centrality(G)\n",
        "        ...     max_cent = max(centrality.values())\n",
        "        ...     # Scale the centrality values so they are between 0 and 1,\n",
        "        ...     # and add some random noise.\n",
        "        ...     centrality = {e: c / max_cent for e, c in centrality.items()}\n",
        "        ...     # Add some random noise.\n",
        "        ...     centrality = {e: c + random() for e, c in centrality.items()}\n",
        "        ...     return max(centrality, key=centrality.get)\n",
        "        ...\n",
        "        >>> G = nx.path_graph(10)\n",
        "        >>> comp = girvan_newman(G, most_valuable_edge=most_central_edge)\n",
        "    Notes\n",
        "    -----\n",
        "    The Girvan–Newman algorithm detects communities by progressively\n",
        "    removing edges from the original graph. The algorithm removes the\n",
        "    \"most valuable\" edge, traditionally the edge with the highest\n",
        "    betweenness centrality, at each step. As the graph breaks down into\n",
        "    pieces, the tightly knit community structure is exposed and the\n",
        "    result can be depicted as a dendrogram.\n",
        "    \"\"\"\n",
        "    # If the graph is already empty, simply return its connected\n",
        "    # components.\n",
        "    if G.number_of_edges() == 0:\n",
        "        yield tuple(nx.connected_components(G))\n",
        "        return\n",
        "    # If no function is provided for computing the most valuable edge,\n",
        "    # use the edge betweenness centrality.\n",
        "    if most_valuable_edge is None:\n",
        "\n",
        "        def most_valuable_edge(G):\n",
        "            \"\"\"Returns the edge with the highest betweenness centrality\n",
        "            in the graph `G`.\n",
        "            \"\"\"\n",
        "            # We have guaranteed that the graph is non-empty, so this\n",
        "            # dictionary will never be empty.\n",
        "            betweenness = nx.edge_betweenness_centrality(G)\n",
        "            return max(betweenness, key=betweenness.get)\n",
        "\n",
        "    # The copy of G here must include the edge weight data.\n",
        "    g = G.copy().to_undirected()\n",
        "    # Self-loops must be removed because their removal has no effect on\n",
        "    # the connected components of the graph.\n",
        "    g.remove_edges_from(nx.selfloop_edges(g))\n",
        "    while g.number_of_edges() > 0:\n",
        "        yield _without_most_central_edges(g, most_valuable_edge)\n",
        "\n",
        "\n",
        "\n",
        "def _without_most_central_edges(G, most_valuable_edge):\n",
        "    \"\"\"Returns the connected components of the graph that results from\n",
        "    repeatedly removing the most \"valuable\" edge in the graph.\n",
        "    `G` must be a non-empty graph. This function modifies the graph `G`\n",
        "    in-place; that is, it removes edges on the graph `G`.\n",
        "    `most_valuable_edge` is a function that takes the graph `G` as input\n",
        "    (or a subgraph with one or more edges of `G` removed) and returns an\n",
        "    edge. That edge will be removed and this process will be repeated\n",
        "    until the number of connected components in the graph increases.\n",
        "    \"\"\"\n",
        "    original_num_components = nx.number_connected_components(G)\n",
        "    num_new_components = original_num_components\n",
        "    while num_new_components <= original_num_components:\n",
        "        edge = most_valuable_edge(G)\n",
        "        G.remove_edge(*edge)\n",
        "        new_components = tuple(nx.connected_components(G))\n",
        "        num_new_components = len(new_components)\n",
        "    return new_components"
      ],
      "metadata": {
        "id": "OGb2VNrIvMDU"
      },
      "execution_count": null,
      "outputs": []
    },
    {
      "cell_type": "markdown",
      "source": [
        "#Read Data"
      ],
      "metadata": {
        "id": "oTvXteFiKb5X"
      }
    },
    {
      "cell_type": "code",
      "source": [
        "data = []\n",
        "header = []\n",
        "with open('ub_sample_data.csv', newline ='') as csvfile:\n",
        "    file = csv.reader(csvfile, delimiter=',')\n",
        "    for row in file:\n",
        "        if not header:\n",
        "            header.append(row)\n",
        "            continue\n",
        "        data.append(row)\n",
        "    csvfile.close()"
      ],
      "metadata": {
        "id": "Z8vfFUf7wdCB"
      },
      "execution_count": null,
      "outputs": []
    },
    {
      "cell_type": "markdown",
      "source": [
        "# 4.1 Betweeness Calculation"
      ],
      "metadata": {
        "id": "jtE6b_yDLGww"
      }
    },
    {
      "cell_type": "markdown",
      "source": [
        "## Set threshold & make graph from the dataset"
      ],
      "metadata": {
        "id": "m67shhXzxDLO"
      }
    },
    {
      "cell_type": "code",
      "source": [
        "threshold = 7\n",
        "users = {}\n",
        "\n",
        "# add user_id and business_id to dict users\n",
        "for [u, i] in data:\n",
        "    if u not in users:\n",
        "        users[u] = {i}\n",
        "    else:\n",
        "        users[u].add(i)\n",
        "\n",
        "g = {}\n",
        "\n",
        "# make graph based on threshold (>=7)\n",
        "# filter and make adjacency list of graph\n",
        "for u1, i1 in users.items():\n",
        "    for u2, i2 in users.items():\n",
        "        if u1 == u2: continue\n",
        "        if(threshold <= len(i1 & i2)):\n",
        "            if u1 not in g:\n",
        "                g[u1] = [u2]\n",
        "            else:\n",
        "                g[u1].append(u2)"
      ],
      "metadata": {
        "id": "rVA12Mz4Asu7"
      },
      "execution_count": null,
      "outputs": []
    },
    {
      "cell_type": "code",
      "source": [
        "G = nx.Graph(g)\n",
        "bc = nx.edge_betweenness_centrality(G)"
      ],
      "metadata": {
        "id": "8HOQyU79wUvV"
      },
      "execution_count": null,
      "outputs": []
    },
    {
      "cell_type": "markdown",
      "source": [
        "## Check number of vertices and edges"
      ],
      "metadata": {
        "id": "3zJ1lQMZKu8A"
      }
    },
    {
      "cell_type": "code",
      "source": [
        "print(G)"
      ],
      "metadata": {
        "colab": {
          "base_uri": "https://localhost:8080/"
        },
        "id": "CsHG28SFtMKw",
        "outputId": "2c65dc61-2045-44cb-85dd-ef7352b4d652"
      },
      "execution_count": null,
      "outputs": [
        {
          "output_type": "stream",
          "name": "stdout",
          "text": [
            "Graph with 222 nodes and 498 edges\n"
          ]
        }
      ]
    },
    {
      "cell_type": "markdown",
      "source": [
        "---------------------------------------------\n",
        "Sort the result based on requirements:\n",
        "\n",
        "*   Sort by betweeness_centrality descending\n",
        "*   Sort by key user_id1, then user_id2 in lexicographical order\n",
        "\n"
      ],
      "metadata": {
        "id": "a_hyZf7IoGmI"
      }
    },
    {
      "cell_type": "code",
      "source": [
        "sorted_bc = sorted(bc.items(), key=lambda x: (x[1],x[0]), reverse = True)"
      ],
      "metadata": {
        "id": "x3dfQ6iUcHb1"
      },
      "execution_count": null,
      "outputs": []
    },
    {
      "cell_type": "code",
      "source": [
        "sorted_bc"
      ],
      "metadata": {
        "colab": {
          "base_uri": "https://localhost:8080/"
        },
        "id": "hqaPCxObfQOs",
        "outputId": "15d49ff7-c584-4f82-8506-e86dd0775f0f"
      },
      "execution_count": null,
      "outputs": [
        {
          "output_type": "execute_result",
          "data": {
            "text/plain": [
              "[(('cyuDrrG5eEK-TZI867MUPA', 'l-1cva9rA8_ugLrtSdKAqA'), 0.17259793730381964),\n",
              " (('DKolrsBSwMTpTJL22dqJRQ', '1st2ltGKJ00ZcRsev-Ieew'), 0.16250814486108625),\n",
              " (('1st2ltGKJ00ZcRsev-Ieew', 'HLY9oDcVBH9D25lU4X_V5Q'), 0.15722962781786312),\n",
              " (('1st2ltGKJ00ZcRsev-Ieew', 'Hv_q_ZnSIoZwdcoH0CyV2Q'), 0.15180791651379885),\n",
              " (('JM0GL6Dx4EuZ1mprLk5Gyg', '1st2ltGKJ00ZcRsev-Ieew'), 0.14958675546910818),\n",
              " (('HLY9oDcVBH9D25lU4X_V5Q', 'l-1cva9rA8_ugLrtSdKAqA'), 0.1359504300680771),\n",
              " (('l-1cva9rA8_ugLrtSdKAqA', 'Hv_q_ZnSIoZwdcoH0CyV2Q'), 0.13407525172231055),\n",
              " (('0FVcoJko1kfZCrJRfssfIA', 'DKolrsBSwMTpTJL22dqJRQ'), 0.09035984963113668),\n",
              " (('a48HhwcmjFLApZhiax41IA', 'o-t-i7nbT5N_cmkCXs5oDQ'), 0.08026578614813909),\n",
              " (('A-U-K9z9oraMH7eBZW1dOA', 'l-1cva9rA8_ugLrtSdKAqA'), 0.07737148913619502),\n",
              " (('cyuDrrG5eEK-TZI867MUPA', 'o-t-i7nbT5N_cmkCXs5oDQ'), 0.0759039582568994),\n",
              " (('39FT2Ui8KUXwmUt6hnwy-g', 'JM0GL6Dx4EuZ1mprLk5Gyg'), 0.057106576137476904),\n",
              " (('JM0GL6Dx4EuZ1mprLk5Gyg', 'KLB3wIYUwKDPMbijIE92vg'), 0.053324957048641854),\n",
              " (('JM0GL6Dx4EuZ1mprLk5Gyg', 'e5kg9bLvlJz-MEUrGjIeVQ'), 0.043633442954709896),\n",
              " (('pDNeS1nbkKS7mJmhRQJPig', 'cyuDrrG5eEK-TZI867MUPA'), 0.03179650238473768),\n",
              " (('pDNeS1nbkKS7mJmhRQJPig', 'A-U-K9z9oraMH7eBZW1dOA'), 0.0311748399983694),\n",
              " (('JM0GL6Dx4EuZ1mprLk5Gyg', 'DKolrsBSwMTpTJL22dqJRQ'), 0.030298359843668715),\n",
              " (('MtdSCXtmrSxj_uZOJ5ZycQ', 'ay4M5J28kBUf0odOQct0BA'), 0.02627655348631457),\n",
              " (('39FT2Ui8KUXwmUt6hnwy-g', '0FVcoJko1kfZCrJRfssfIA'), 0.026010663935131555),\n",
              " (('QvLg2kxqHHahxxOlHlEIZw', 'cyuDrrG5eEK-TZI867MUPA'), 0.025457584281113693),\n",
              " (('JM0GL6Dx4EuZ1mprLk5Gyg', 'fLnkI1uHtXEsjtF6KoBHbQ'), 0.02497649013486119),\n",
              " (('QvLg2kxqHHahxxOlHlEIZw', 'A-U-K9z9oraMH7eBZW1dOA'), 0.024958216134686722),\n",
              " (('bSUS0YcvS7UelmHvCzNWBA', 'DKolrsBSwMTpTJL22dqJRQ'), 0.024810340642713515),\n",
              " (('JM0GL6Dx4EuZ1mprLk5Gyg', 'tekHDsd0fskYG3tqu4sHQw'), 0.023729088887459934),\n",
              " (('39FT2Ui8KUXwmUt6hnwy-g', 'Uo5dPwoDpYBzOnmUnjxJ6A'), 0.022869022869022867),\n",
              " (('DKolrsBSwMTpTJL22dqJRQ', '_VTEyUzzH92X3w-IpGaXVA'), 0.022602032028117683),\n",
              " (('0FVcoJko1kfZCrJRfssfIA', 'KLB3wIYUwKDPMbijIE92vg'), 0.02159501321924128),\n",
              " (('KLB3wIYUwKDPMbijIE92vg', 'hilL60vuuh06sMxs6Ckkog'), 0.02039110862640274),\n",
              " (('JM0GL6Dx4EuZ1mprLk5Gyg', 'MtdSCXtmrSxj_uZOJ5ZycQ'), 0.019042571983748455),\n",
              " (('0FVcoJko1kfZCrJRfssfIA', 'ay4M5J28kBUf0odOQct0BA'), 0.01660430306720231),\n",
              " (('0FVcoJko1kfZCrJRfssfIA', 'LcCRMIDz1JgshpPGYfLDcA'), 0.015926305519065657),\n",
              " (('39FT2Ui8KUXwmUt6hnwy-g', 'DKolrsBSwMTpTJL22dqJRQ'), 0.01581198198845253),\n",
              " (('JM0GL6Dx4EuZ1mprLk5Gyg', '5DgFmyjW6hkBtXtTMKl4tA'), 0.015454078206663743),\n",
              " (('JM0GL6Dx4EuZ1mprLk5Gyg', 'OoyQYSeYNyRVOmdO3tsxYA'), 0.015388562895143901),\n",
              " (('JM0GL6Dx4EuZ1mprLk5Gyg', 'hLVq7VSJBHZwqurwWoCmpg'), 0.015327544739309445),\n",
              " (('LcCRMIDz1JgshpPGYfLDcA', '0QREkWHGO8-Z_70qx1BIWw'), 0.015164485752721047),\n",
              " (('JM0GL6Dx4EuZ1mprLk5Gyg', '7G8w2SnaC-qDVQ7_GqTxMg'), 0.014804397157338334),\n",
              " (('JM0GL6Dx4EuZ1mprLk5Gyg', 'IuaAfrkirlfzY3f4PkgSmw'), 0.014042096395037573),\n",
              " (('JM0GL6Dx4EuZ1mprLk5Gyg', 'm1IVpXClMox1VGw5hO2LhQ'), 0.01386001386001386),\n",
              " (('0FVcoJko1kfZCrJRfssfIA', 'OoyQYSeYNyRVOmdO3tsxYA'), 0.013475677158728753),\n",
              " (('DKolrsBSwMTpTJL22dqJRQ', 'bE7Yd0jI_P6g27MWEKKalA'), 0.01331343487753958),\n",
              " (('0FVcoJko1kfZCrJRfssfIA', 'Ams0iLRd0AhZZectGKA8fw'), 0.011414129061187885),\n",
              " (('0FVcoJko1kfZCrJRfssfIA', 'EiwxlbR8fb68lMgEXhcWKA'), 0.011332599567893686),\n",
              " (('JM0GL6Dx4EuZ1mprLk5Gyg', 'Zk95TMXDx0zMUhYq5u8pxw'), 0.010806252744358626),\n",
              " (('DKolrsBSwMTpTJL22dqJRQ', '4pc_EyanaC3ARh0MZZyouA'), 0.010090835805291604),\n",
              " (('LcCRMIDz1JgshpPGYfLDcA', '_VTEyUzzH92X3w-IpGaXVA'), 0.010020297350614119),\n",
              " (('MtdSCXtmrSxj_uZOJ5ZycQ', 'kwIhn1_cnQeUaLN0CuWWHw'), 0.009905833435245197),\n",
              " (('KLB3wIYUwKDPMbijIE92vg', 'kwIhn1_cnQeUaLN0CuWWHw'), 0.00970492146962735),\n",
              " (('JM0GL6Dx4EuZ1mprLk5Gyg', 'dzJDCQ5vubQBJTfYTEmcbg'), 0.008790238202002908),\n",
              " (('MtdSCXtmrSxj_uZOJ5ZycQ', 'e5kg9bLvlJz-MEUrGjIeVQ'), 0.008282500137703751),\n",
              " (('tekHDsd0fskYG3tqu4sHQw', 'xrvyW1ruKS0uz9RtFewC0Q'), 0.007704537116301822),\n",
              " (('tekHDsd0fskYG3tqu4sHQw', 'PKEzKWv_FktMm2mGPjwd0Q'), 0.007704537116301822),\n",
              " (('qd16czwFUVHICKF7A4qWsQ', 'kwIhn1_cnQeUaLN0CuWWHw'), 0.007704537116301822),\n",
              " (('pDNeS1nbkKS7mJmhRQJPig', 'k24kSTpZHUdEd-QYXLy3fQ'), 0.007704537116301822),\n",
              " (('nOTl4aPC4tKHK35T3bNauQ', '5DgFmyjW6hkBtXtTMKl4tA'), 0.007704537116301822),\n",
              " (('m1IVpXClMox1VGw5hO2LhQ', '903YwVSoAKyzudc8LH_HMA'), 0.007704537116301822),\n",
              " (('l-1cva9rA8_ugLrtSdKAqA', 'KBoIRjxSW7OWczv8OS9Bew'), 0.007704537116301822),\n",
              " (('kwIhn1_cnQeUaLN0CuWWHw', 'jgoG_hHqnhZvQEoBK0-82w'), 0.007704537116301822),\n",
              " (('hilL60vuuh06sMxs6Ckkog', 'LiNx18WUre9WFCEQlUhtKA'), 0.007704537116301822),\n",
              " (('hilL60vuuh06sMxs6Ckkog', 'EY8h9IJimXDNbPXVFpYF3A'), 0.007704537116301822),\n",
              " (('hLVq7VSJBHZwqurwWoCmpg', 'XEqQG61fetXhuEV9RPslIA'), 0.007704537116301822),\n",
              " (('fLnkI1uHtXEsjtF6KoBHbQ', 'MwpK7PqQX7fgTFM2Pfy61w'), 0.007704537116301822),\n",
              " (('fLnkI1uHtXEsjtF6KoBHbQ', 'DjcRgZ0cJbf6-W2TxvFlBA'), 0.007704537116301822),\n",
              " (('e5kg9bLvlJz-MEUrGjIeVQ', 'fcWM-oqjgS94yi1INhZa0g'), 0.007704537116301822),\n",
              " (('e5kg9bLvlJz-MEUrGjIeVQ', 'WaAOt_eG0_-yLpG3fI--3g'), 0.007704537116301822),\n",
              " (('e5kg9bLvlJz-MEUrGjIeVQ', 'VdoTNYWuoXo01umgannw8A'), 0.007704537116301822),\n",
              " (('dzJDCQ5vubQBJTfYTEmcbg', '0KhRPd66BZGHCtsb9mGh_g'), 0.007704537116301822),\n",
              " (('cyuDrrG5eEK-TZI867MUPA', 'ORJnGXXkS9tQBTNyPQJF9A'), 0.007704537116301822),\n",
              " (('cyuDrrG5eEK-TZI867MUPA', 'LgFDWZTLi1w9OGi5BtKORg'), 0.007704537116301822),\n",
              " (('bSUS0YcvS7UelmHvCzNWBA', 'T88y73qdOSutuvzLlhWtqQ'), 0.007704537116301822),\n",
              " (('bSUS0YcvS7UelmHvCzNWBA', 'DkLSyxogCcJXY5DbTZ-f2A'), 0.007704537116301822),\n",
              " (('bE7Yd0jI_P6g27MWEKKalA', 'Tk_FWXueutKii3f9yJFsdw'), 0.007704537116301822),\n",
              " (('ay4M5J28kBUf0odOQct0BA', 'ELfzWgdf64VBLi5z1ECItw'), 0.007704537116301822),\n",
              " (('a48HhwcmjFLApZhiax41IA', 'e5sdXDOkCf0sIUAivXVluA'), 0.007704537116301822),\n",
              " (('a48HhwcmjFLApZhiax41IA', 'H5Asta4LpiKmRhSjWaogIg'), 0.007704537116301822),\n",
              " (('a48HhwcmjFLApZhiax41IA', 'H4EQn0rjFuGRgIm6c9NFLg'), 0.007704537116301822),\n",
              " (('_VTEyUzzH92X3w-IpGaXVA', 'jPcrABeWgWlTPi-E0Op_aA'), 0.007704537116301822),\n",
              " (('MtdSCXtmrSxj_uZOJ5ZycQ', 'SsOiVav4V5_NjTl21Lj92w'), 0.007704537116301822),\n",
              " (('MtdSCXtmrSxj_uZOJ5ZycQ', '2xVrxhQJUBmOyG4ML77XKw'), 0.007704537116301822),\n",
              " (('KLB3wIYUwKDPMbijIE92vg', 'mnoe2vwouRADn97dTDkw4A'), 0.007704537116301822),\n",
              " (('KLB3wIYUwKDPMbijIE92vg', 'O9pMFJSPg80YVzpMfNikxw'), 0.007704537116301822),\n",
              " (('JM0GL6Dx4EuZ1mprLk5Gyg', 'UYcmGbelzRa0Q6JqzLoguw'), 0.007704537116301822),\n",
              " (('JM0GL6Dx4EuZ1mprLk5Gyg', 'TZ974xcbw2kqjYxAhDUYVg'), 0.007704537116301822),\n",
              " (('JM0GL6Dx4EuZ1mprLk5Gyg', 'NlNlyQynkyEU3l7TR3LXdg'), 0.007704537116301822),\n",
              " (('JM0GL6Dx4EuZ1mprLk5Gyg', 'JRqMFKGxx6DnTGZrxwQZaA'), 0.007704537116301822),\n",
              " (('JM0GL6Dx4EuZ1mprLk5Gyg', '8oYMqhC5fhqAK_yxRjE7dQ'), 0.007704537116301822),\n",
              " (('JM0GL6Dx4EuZ1mprLk5Gyg', '2k8OVAPxlXHsA5X6EIoQpQ'), 0.007704537116301822),\n",
              " (('IuaAfrkirlfzY3f4PkgSmw', 'Y0-lLNc2Y7gUGXPzSsMueQ'), 0.007704537116301822),\n",
              " (('HLY9oDcVBH9D25lU4X_V5Q', 'fOut10lknIp64tm3z6UTNg'), 0.007704537116301822),\n",
              " (('DKolrsBSwMTpTJL22dqJRQ', 'hd343st7cOIUSfAd5r0U7A'), 0.007704537116301822),\n",
              " (('7RCz4Ln_FaTvNrdwe251Dg', '9xM8upr_n9jchUDKxqSGHw'), 0.007704537116301822),\n",
              " (('750rhwO7D_Cul7_GtO9Jsg', 'fLnkI1uHtXEsjtF6KoBHbQ'), 0.007704537116301822),\n",
              " (('39FT2Ui8KUXwmUt6hnwy-g', 'sdLns7062kz3Ur_b8wgeYw'), 0.007704537116301822),\n",
              " (('39FT2Ui8KUXwmUt6hnwy-g', 'PE8s8ACYABRNANI-T_WmzA'), 0.007704537116301822),\n",
              " (('39FT2Ui8KUXwmUt6hnwy-g', 'ChshgCKJTdIDg17JKtFuJw'), 0.007704537116301822),\n",
              " (('39FT2Ui8KUXwmUt6hnwy-g', '79yaBDbLASfIdB-C2c8DzA'), 0.007704537116301822),\n",
              " (('37HswRimgBEf7_US-c3CDA', 'e5kg9bLvlJz-MEUrGjIeVQ'), 0.007704537116301822),\n",
              " (('23o7tyUGlC6FCDVcyqLeFA', 'ay4M5J28kBUf0odOQct0BA'), 0.007704537116301822),\n",
              " (('0QREkWHGO8-Z_70qx1BIWw', 'kKTcYPz47sCDH1_ylnE4ZQ'), 0.007704537116301822),\n",
              " (('0FVcoJko1kfZCrJRfssfIA', 'yCaDISH0R8e5U376zDWTpQ'), 0.007704537116301822),\n",
              " (('0FVcoJko1kfZCrJRfssfIA', 'waN6iwcphiVEoCews4f4CA'), 0.007704537116301822),\n",
              " (('0FVcoJko1kfZCrJRfssfIA', 'voXU5A3FfOcXZ2VNsJ0q4w'), 0.007704537116301822),\n",
              " (('0FVcoJko1kfZCrJRfssfIA', 'sO6iNKgv_ToVfof-aQWgXg'), 0.007704537116301822),\n",
              " (('0FVcoJko1kfZCrJRfssfIA', 'p9942XebvxZ9ubHm4SXmMQ'), 0.007704537116301822),\n",
              " (('0FVcoJko1kfZCrJRfssfIA', 'ma6206bmu-a_Ja7Iv-yRCw'), 0.007704537116301822),\n",
              " (('0FVcoJko1kfZCrJRfssfIA', 'j8Dts8irvVBwEhEEae_-wA'), 0.007704537116301822),\n",
              " (('0FVcoJko1kfZCrJRfssfIA', 'bbK1mL-AyYCHZncDQ_4RgA'), 0.007704537116301822),\n",
              " (('0FVcoJko1kfZCrJRfssfIA', 'XUEwSGOGARxW-3gPiGJKUg'), 0.007704537116301822),\n",
              " (('0FVcoJko1kfZCrJRfssfIA', 'UAB1Zyg6Q0oEpXeYRf5K_g'), 0.007704537116301822),\n",
              " (('0FVcoJko1kfZCrJRfssfIA', 'TjsBbWAfwxWEXPxaLNv5SQ'), 0.007704537116301822),\n",
              " (('0FVcoJko1kfZCrJRfssfIA', 'KgJdBWS3ReP6TVhYWJRKmg'), 0.007704537116301822),\n",
              " (('0FVcoJko1kfZCrJRfssfIA', 'JLv2Dmfj73-I0d9N41tz1A'), 0.007704537116301822),\n",
              " (('0FVcoJko1kfZCrJRfssfIA', 'IXD-jdycm7m34b_Nliy82g'), 0.007704537116301822),\n",
              " (('0FVcoJko1kfZCrJRfssfIA', 'BDjiEmXljD2ZHT61Iv9rrQ'), 0.007704537116301822),\n",
              " (('0FVcoJko1kfZCrJRfssfIA', '7Vfy39A_totC-w70qZi0MA'), 0.007704537116301822),\n",
              " (('0FVcoJko1kfZCrJRfssfIA', '0FMte0z-repSVWSJ_BaQTg'), 0.007704537116301822),\n",
              " (('UmTMCfPlhA6kJLAsLycSfg', 'Uo5dPwoDpYBzOnmUnjxJ6A'), 0.007663772369654723),\n",
              " (('9W73B44Iw8WslrTNB2CdCg', 'Uo5dPwoDpYBzOnmUnjxJ6A'), 0.007663772369654723),\n",
              " (('a48HhwcmjFLApZhiax41IA', 'frQs7y5qa-X1pvAM0sJe1w'), 0.007623007623007623),\n",
              " (('a48HhwcmjFLApZhiax41IA', 'angEr2YcXmCl20s8WQu32w'), 0.007623007623007623),\n",
              " (('a48HhwcmjFLApZhiax41IA', 'BDmxm7aeWFOLT35gSvkmig'), 0.007623007623007623),\n",
              " (('a48HhwcmjFLApZhiax41IA', '6YmRpoIuiq8I19Q8dHKTHw'), 0.007623007623007623),\n",
              " (('a48HhwcmjFLApZhiax41IA', '6xi9tBoZ6r_v41u_XFsSnA'), 0.007602625249684073),\n",
              " (('a48HhwcmjFLApZhiax41IA', '2GUjO7NU88cPXpoffYCU8w'), 0.007602625249684073),\n",
              " (('0FVcoJko1kfZCrJRfssfIA', 'SdXxLZQQnQNUEL1rGMOQ6w'), 0.007602625249684073),\n",
              " (('0FVcoJko1kfZCrJRfssfIA', '97j2wkFU46OOgm6ErRAb7w'), 0.007602625249684073),\n",
              " (('HLY9oDcVBH9D25lU4X_V5Q', '4ZQq0ozRs-gXSz1z55iIDw'), 0.007595831125242889),\n",
              " (('a48HhwcmjFLApZhiax41IA', 'XrRLaAeV20MRwdSIGjj2SQ'), 0.0075822428763605235),\n",
              " (('LcCRMIDz1JgshpPGYfLDcA', 'tAcY4S3vIuNlAoRlCcz5VA'), 0.0075822428763605235),\n",
              " (('LcCRMIDz1JgshpPGYfLDcA', 'KHjroLTG6Ah8LyItTyB2yw'), 0.0075822428763605235),\n",
              " (('HLY9oDcVBH9D25lU4X_V5Q', 'oegRUjhGbP62M18WyAL6pQ'), 0.0075822428763605235),\n",
              " (('e5kg9bLvlJz-MEUrGjIeVQ', 'cIbbfJEGLB3B-c8Po4AL5g'), 0.00757544875191934),\n",
              " (('JM0GL6Dx4EuZ1mprLk5Gyg', 'NUtVG7jNPLJR2cxMXMH2-A'), 0.007568654627478157),\n",
              " (('4ZQq0ozRs-gXSz1z55iIDw', 'Hv_q_ZnSIoZwdcoH0CyV2Q'), 0.00751430163194869),\n",
              " (('oegRUjhGbP62M18WyAL6pQ', 'Hv_q_ZnSIoZwdcoH0CyV2Q'), 0.007500713383066324),\n",
              " (('7G8w2SnaC-qDVQ7_GqTxMg', 'JqjAthJThuVYgTh4iWDZ2A'), 0.007425978014213309),\n",
              " (('JM0GL6Dx4EuZ1mprLk5Gyg', 'ajxohdcsKhRGFlEvHZDyTw'), 0.00730368377427201),\n",
              " (('39FT2Ui8KUXwmUt6hnwy-g', 'dzJDCQ5vubQBJTfYTEmcbg'), 0.007226803739979141),\n",
              " (('DKolrsBSwMTpTJL22dqJRQ', 'dTeSvET2SR5LDF_J07wJAQ'), 0.006944501740328249),\n",
              " (('39FT2Ui8KUXwmUt6hnwy-g', 'bSUS0YcvS7UelmHvCzNWBA'), 0.00694369113512708),\n",
              " (('JM0GL6Dx4EuZ1mprLk5Gyg', '5fQ9P6kbQM_E0dx8DL6JWA'), 0.006851980927040819),\n",
              " (('cyuDrrG5eEK-TZI867MUPA', 'SX_SMrddkDU5dySbsZMu9A'), 0.006603888956830133),\n",
              " (('cyuDrrG5eEK-TZI867MUPA', 'jnn504CkjtfbYIwBquWmBw'), 0.0065529330235212565),\n",
              " (('cyuDrrG5eEK-TZI867MUPA', 'YA-caxALI4C-eCiSM97new'), 0.00645102115690351),\n",
              " (('pDNeS1nbkKS7mJmhRQJPig', 'o-t-i7nbT5N_cmkCXs5oDQ'), 0.006440829970241736),\n",
              " (('bSUS0YcvS7UelmHvCzNWBA', 'KLB3wIYUwKDPMbijIE92vg'), 0.0064077281224539226),\n",
              " (('39FT2Ui8KUXwmUt6hnwy-g', '_VTEyUzzH92X3w-IpGaXVA'), 0.006351590019091695),\n",
              " (('JM0GL6Dx4EuZ1mprLk5Gyg', 'jcriwcTidug0fK8sgAloHA'), 0.006305269653685945),\n",
              " (('39FT2Ui8KUXwmUt6hnwy-g', 'ay4M5J28kBUf0odOQct0BA'), 0.006230212112565054),\n",
              " (('A-U-K9z9oraMH7eBZW1dOA', 'jnn504CkjtfbYIwBquWmBw'), 0.006196241490359137),\n",
              " (('JM0GL6Dx4EuZ1mprLk5Gyg', 'ZA1OT-PIZwz2kdHDA6mShw'), 0.006195204837738777),\n",
              " (('0FVcoJko1kfZCrJRfssfIA', 'e8uzNcSC5tQMD22GNAQEQA'), 0.006041917806623687),\n",
              " (('l-1cva9rA8_ugLrtSdKAqA', 'ZZvfGGLnAkSBSUduV7KN-w'), 0.00595165301047654),\n",
              " (('l-1cva9rA8_ugLrtSdKAqA', 'SVC0CajvmYfH5uAq4JnGvg'), 0.00595165301047654),\n",
              " (('ay4M5J28kBUf0odOQct0BA', 'kwIhn1_cnQeUaLN0CuWWHw'), 0.005644461526814467),\n",
              " (('MtdSCXtmrSxj_uZOJ5ZycQ', 'UwV6jBuTR1S9acT6bPTBPw'), 0.0053816259698612635),\n",
              " (('MtdSCXtmrSxj_uZOJ5ZycQ', 'fLnkI1uHtXEsjtF6KoBHbQ'), 0.005352481370580922),\n",
              " (('bSUS0YcvS7UelmHvCzNWBA', 'ay4M5J28kBUf0odOQct0BA'), 0.0053119810848350725),\n",
              " (('39FT2Ui8KUXwmUt6hnwy-g', 'zBi_JWB5uUdVuz3JLoAxGQ'), 0.005288153211475067),\n",
              " (('_VTEyUzzH92X3w-IpGaXVA', 'KLB3wIYUwKDPMbijIE92vg'), 0.005163470471909065),\n",
              " (('LcCRMIDz1JgshpPGYfLDcA', '4pc_EyanaC3ARh0MZZyouA'), 0.005101263246059615),\n",
              " (('MtdSCXtmrSxj_uZOJ5ZycQ', 'tekHDsd0fskYG3tqu4sHQw'), 0.005079357568045353),\n",
              " (('0FVcoJko1kfZCrJRfssfIA', '7RCz4Ln_FaTvNrdwe251Dg'), 0.004931757872934351),\n",
              " (('39FT2Ui8KUXwmUt6hnwy-g', 'R4l3ONHzGBakKKNo4TN9iQ'), 0.004874784286548981),\n",
              " (('QvLg2kxqHHahxxOlHlEIZw', 'o-t-i7nbT5N_cmkCXs5oDQ'), 0.004728710611063552),\n",
              " (('9S52XHEyrvOv4OZxU6pCLw', '5DgFmyjW6hkBtXtTMKl4tA'), 0.0046367921104509295),\n",
              " (('_VTEyUzzH92X3w-IpGaXVA', 'ay4M5J28kBUf0odOQct0BA'), 0.0046029051137919655),\n",
              " (('DKolrsBSwMTpTJL22dqJRQ', 'WoKCLSctS7G2547xKcED-Q'), 0.004560361913303089),\n",
              " (('0FVcoJko1kfZCrJRfssfIA', 'XPAJ2KHkCwBA0vafF-2Zcg'), 0.0045232287879346696),\n",
              " (('0FVcoJko1kfZCrJRfssfIA', 'CebjpVd3PsofCgotWp60pg'), 0.00450284641461112),\n",
              " (('0FVcoJko1kfZCrJRfssfIA', '4PQhC-zTQ4ACEN0-r39JuQ'), 0.00450284641461112),\n",
              " (('0FVcoJko1kfZCrJRfssfIA', '2XYdguaaZ7dgi6fAlddujg'), 0.004502846414611119),\n",
              " (('JM0GL6Dx4EuZ1mprLk5Gyg', 'mu4XvWvJOb3XpG1C_CHCWA'), 0.004456266220972104),\n",
              " (('pDNeS1nbkKS7mJmhRQJPig', 'S1cjSFKcS5NVc3o1MkfpwA'), 0.004422975011210305),\n",
              " (('mm9WYrFhiNqvHCyhQKw3Mg', 'pDNeS1nbkKS7mJmhRQJPig'), 0.004422975011210305),\n",
              " (('39FT2Ui8KUXwmUt6hnwy-g', 'B0ENvYKQdNNr1Izd2r-BAA'), 0.004355519061401403),\n",
              " (('KLB3wIYUwKDPMbijIE92vg', 'S9dDf0JqSMAvusp5f-9bGw'), 0.004305313128842541),\n",
              " (('0FVcoJko1kfZCrJRfssfIA', 'bSUS0YcvS7UelmHvCzNWBA'), 0.0042891145832322335),\n",
              " (('DKolrsBSwMTpTJL22dqJRQ', 'tL2pS5UOmN6aAOi3Z-qFGg'), 0.0042361365890777655),\n",
              " (('cyuDrrG5eEK-TZI867MUPA', '4ONcRRisDZkbV1cviA7nFw'), 0.004178386531327708),\n",
              " (('0gZ8E5tBWTEtGEZDuTzhzw', 'cyuDrrG5eEK-TZI867MUPA'), 0.004178386531327708),\n",
              " (('39FT2Ui8KUXwmUt6hnwy-g', 'KLB3wIYUwKDPMbijIE92vg'), 0.004087830558418793),\n",
              " (('zBi_JWB5uUdVuz3JLoAxGQ', 'KLB3wIYUwKDPMbijIE92vg'), 0.004054095230012241),\n",
              " (('LcCRMIDz1JgshpPGYfLDcA', 'zBi_JWB5uUdVuz3JLoAxGQ'), 0.004049612646897714),\n",
              " (('MtdSCXtmrSxj_uZOJ5ZycQ', '5DgFmyjW6hkBtXtTMKl4tA'), 0.004041464056655015),\n",
              " (('39FT2Ui8KUXwmUt6hnwy-g', 'bHufZ2OTlC-OUxBDRXxViw'), 0.003999021646080474),\n",
              " (('pDNeS1nbkKS7mJmhRQJPig', 'QUYbGl1DL-9faG150MQ7zA'), 0.00393379805144511),\n",
              " (('0FVcoJko1kfZCrJRfssfIA', 'cm3_8c_NDhPcpwJQ96Aixw'), 0.003930886283827461),\n",
              " (('EiwxlbR8fb68lMgEXhcWKA', 'JteQGisqOf_pklq7GA0Rww'), 0.003913415678121561),\n",
              " (('tekHDsd0fskYG3tqu4sHQw', 'DPtOaWemjBPvFiZJBi0m8A'), 0.0039039039039039033),\n",
              " (('e5kg9bLvlJz-MEUrGjIeVQ', 'MrsRJa4SWLq8XLU1RtPdlw'), 0.0038889568301333005),\n",
              " (('HLY9oDcVBH9D25lU4X_V5Q', 'e0Jn0ZjqL-dWi7Brs0bbmg'), 0.003872650931474461),\n",
              " (('0FVcoJko1kfZCrJRfssfIA', 'tRZAC_H5RHrjvyvtufcNXQ'), 0.003862945039415629),\n",
              " (('oegRUjhGbP62M18WyAL6pQ', 'Ih85YhFRDzOnB09yS__94g'), 0.003852268558150911),\n",
              " (('Z9a1tDT8fVI75qXYwNhPpw', 'oegRUjhGbP62M18WyAL6pQ'), 0.003852268558150911),\n",
              " (('HLY9oDcVBH9D25lU4X_V5Q', 'ZEq0WtRJD9Bl_vYgCsbfOg'), 0.003852268558150911),\n",
              " (('HLY9oDcVBH9D25lU4X_V5Q', 'LaiylSIbrA3aPvOYtl-J4A'), 0.003852268558150911),\n",
              " (('e5kg9bLvlJz-MEUrGjIeVQ', 'DPtOaWemjBPvFiZJBi0m8A'), 0.003848192083486201),\n",
              " (('e0Jn0ZjqL-dWi7Brs0bbmg', 'Hv_q_ZnSIoZwdcoH0CyV2Q'), 0.0038318861848273614),\n",
              " (('JteQGisqOf_pklq7GA0Rww', 'Ams0iLRd0AhZZectGKA8fw'), 0.0038318861848273614),\n",
              " (('tekHDsd0fskYG3tqu4sHQw', 'MrsRJa4SWLq8XLU1RtPdlw'), 0.003815580286168521),\n",
              " (('Hv_q_ZnSIoZwdcoH0CyV2Q', 'ZEq0WtRJD9Bl_vYgCsbfOg'), 0.0038115038115038116),\n",
              " (('Hv_q_ZnSIoZwdcoH0CyV2Q', 'LaiylSIbrA3aPvOYtl-J4A'), 0.0038115038115038116),\n",
              " (('4ZQq0ozRs-gXSz1z55iIDw', 'Z9a1tDT8fVI75qXYwNhPpw'), 0.0038115038115038116),\n",
              " (('4ZQq0ozRs-gXSz1z55iIDw', 'Ih85YhFRDzOnB09yS__94g'), 0.0038115038115038116),\n",
              " (('HLY9oDcVBH9D25lU4X_V5Q', 'wXdrUQg4-VkSZH1FG4Byzw'), 0.0038047096870626284),\n",
              " (('0FVcoJko1kfZCrJRfssfIA', 'hqmnMdDS-Opjp3BfBJA8qA'), 0.0037725074876777775),\n",
              " (('QvLg2kxqHHahxxOlHlEIZw', 'QUYbGl1DL-9faG150MQ7zA'), 0.003770739064856712),\n",
              " (('wXdrUQg4-VkSZH1FG4Byzw', 'Hv_q_ZnSIoZwdcoH0CyV2Q'), 0.003763944940415529),\n",
              " (('pDNeS1nbkKS7mJmhRQJPig', 'tcWnoX_IfuDmlDl6o6y3_g'), 0.0036892095715625127),\n",
              " (('pDNeS1nbkKS7mJmhRQJPig', 'k58KNO8Rya-q8njKq8-uBQ'), 0.0036892095715625127),\n",
              " (('pDNeS1nbkKS7mJmhRQJPig', 'h-ajC_UHD0QAyAzySN6g2A'), 0.0036892095715625127),\n",
              " (('pDNeS1nbkKS7mJmhRQJPig', 'ae7zi8F0B6l_JCITh1mXDg'), 0.0036892095715625127),\n",
              " (('pDNeS1nbkKS7mJmhRQJPig', 'ZXyGw3Z1DyhK1sfNtpcyYA'), 0.0036892095715625127),\n",
              " (('pDNeS1nbkKS7mJmhRQJPig', 'WXlxViTwXHPBvhioljN9PQ'), 0.0036892095715625127),\n",
              " (('pDNeS1nbkKS7mJmhRQJPig', 'Nf_Jw_W_CwOz5WJ7ApSMxg'), 0.0036892095715625127),\n",
              " (('pDNeS1nbkKS7mJmhRQJPig', 'LKP0Yq9T7Ss6oiDZnVtQwQ'), 0.0036892095715625127),\n",
              " (('pDNeS1nbkKS7mJmhRQJPig', 'FyQrUamokaPLDrBxGmzPnA'), 0.0036892095715625127),\n",
              " (('pDNeS1nbkKS7mJmhRQJPig', 'EI9ijI9Wh66LrVW-GmWkOg'), 0.0036892095715625127),\n",
              " (('pDNeS1nbkKS7mJmhRQJPig', 'DgfsJqg_gozVgaeZ5vjllA'), 0.0036892095715625127),\n",
              " (('pDNeS1nbkKS7mJmhRQJPig', 'BE4fE4R3TaVn8xy4sYYjbg'), 0.0036892095715625127),\n",
              " (('pDNeS1nbkKS7mJmhRQJPig', '9SWtEX1k9AjRg93BAzMCpg'), 0.0036892095715625127),\n",
              " (('39FT2Ui8KUXwmUt6hnwy-g', '1KQi8Ymatd4ySAd4fhSfaw'), 0.0036729036729036724),\n",
              " (('bE7Yd0jI_P6g27MWEKKalA', 'ay4M5J28kBUf0odOQct0BA'), 0.0036341974113256056),\n",
              " (('QvLg2kxqHHahxxOlHlEIZw', 'tcWnoX_IfuDmlDl6o6y3_g'), 0.0035261505849741143),\n",
              " (('QvLg2kxqHHahxxOlHlEIZw', 'k58KNO8Rya-q8njKq8-uBQ'), 0.0035261505849741143),\n",
              " (('QvLg2kxqHHahxxOlHlEIZw', 'h-ajC_UHD0QAyAzySN6g2A'), 0.0035261505849741143),\n",
              " (('QvLg2kxqHHahxxOlHlEIZw', 'ae7zi8F0B6l_JCITh1mXDg'), 0.0035261505849741143),\n",
              " (('QvLg2kxqHHahxxOlHlEIZw', 'ZXyGw3Z1DyhK1sfNtpcyYA'), 0.0035261505849741143),\n",
              " (('QvLg2kxqHHahxxOlHlEIZw', 'WXlxViTwXHPBvhioljN9PQ'), 0.0035261505849741143),\n",
              " (('QvLg2kxqHHahxxOlHlEIZw', 'Nf_Jw_W_CwOz5WJ7ApSMxg'), 0.0035261505849741143),\n",
              " (('QvLg2kxqHHahxxOlHlEIZw', 'LKP0Yq9T7Ss6oiDZnVtQwQ'), 0.0035261505849741143),\n",
              " (('QvLg2kxqHHahxxOlHlEIZw', 'FyQrUamokaPLDrBxGmzPnA'), 0.0035261505849741143),\n",
              " (('QvLg2kxqHHahxxOlHlEIZw', 'EI9ijI9Wh66LrVW-GmWkOg'), 0.0035261505849741143),\n",
              " (('QvLg2kxqHHahxxOlHlEIZw', 'DgfsJqg_gozVgaeZ5vjllA'), 0.0035261505849741143),\n",
              " (('QvLg2kxqHHahxxOlHlEIZw', 'BE4fE4R3TaVn8xy4sYYjbg'), 0.0035261505849741143),\n",
              " (('QvLg2kxqHHahxxOlHlEIZw', '9SWtEX1k9AjRg93BAzMCpg'), 0.0035261505849741143),\n",
              " (('A-U-K9z9oraMH7eBZW1dOA', '4ONcRRisDZkbV1cviA7nFw'), 0.0035261505849741143),\n",
              " (('0gZ8E5tBWTEtGEZDuTzhzw', 'A-U-K9z9oraMH7eBZW1dOA'), 0.0035261505849741143),\n",
              " (('_VTEyUzzH92X3w-IpGaXVA', 'S9dDf0JqSMAvusp5f-9bGw'), 0.0033992239874592813),\n",
              " (('cyuDrrG5eEK-TZI867MUPA', 'B7IvZ26ZUdL2jGbYsFVGxQ'), 0.0033732827850474927),\n",
              " (('Gua5GdTlTWJpovtG7Hdtyg', 'cyuDrrG5eEK-TZI867MUPA'), 0.003363091598385718),\n",
              " (('0FVcoJko1kfZCrJRfssfIA', 'B0ENvYKQdNNr1Izd2r-BAA'), 0.003349018054900418),\n",
              " (('9S52XHEyrvOv4OZxU6pCLw', 'Zk95TMXDx0zMUhYq5u8pxw'), 0.003346304107939402),\n",
              " (('0FVcoJko1kfZCrJRfssfIA', 'bJguBxPlnTW29tRTAF0nkQ'), 0.0033406823491419326),\n",
              " (('0FVcoJko1kfZCrJRfssfIA', '_VTEyUzzH92X3w-IpGaXVA'), 0.003336757748522456),\n",
              " (('KLB3wIYUwKDPMbijIE92vg', 'y6jsaAXFstAJkf53R4_y4Q'), 0.0033301166422565567),\n",
              " (('39FT2Ui8KUXwmUt6hnwy-g', 'qtOCfMTrozmUSHWIcohc6Q'), 0.0033148533148533213),\n",
              " (('39FT2Ui8KUXwmUt6hnwy-g', 'mu4XvWvJOb3XpG1C_CHCWA'), 0.003248270895329719),\n",
              " (('mm9WYrFhiNqvHCyhQKw3Mg', 'jnn504CkjtfbYIwBquWmBw'), 0.003240797358444417),\n",
              " (('S1cjSFKcS5NVc3o1MkfpwA', 'jnn504CkjtfbYIwBquWmBw'), 0.003240797358444417),\n",
              " (('bSUS0YcvS7UelmHvCzNWBA', 'CebjpVd3PsofCgotWp60pg'), 0.0032016907016907017),\n",
              " (('bSUS0YcvS7UelmHvCzNWBA', '4PQhC-zTQ4ACEN0-r39JuQ'), 0.0032016907016907017),\n",
              " (('bSUS0YcvS7UelmHvCzNWBA', '2XYdguaaZ7dgi6fAlddujg'), 0.0032016907016907017),\n",
              " (('_VTEyUzzH92X3w-IpGaXVA', 'XPAJ2KHkCwBA0vafF-2Zcg'), 0.003181308328367152),\n",
              " (('Gua5GdTlTWJpovtG7Hdtyg', 'A-U-K9z9oraMH7eBZW1dOA'), 0.0031083119318413436),\n",
              " (('A-U-K9z9oraMH7eBZW1dOA', 'B7IvZ26ZUdL2jGbYsFVGxQ'), 0.0030981207451795684),\n",
              " (('0FVcoJko1kfZCrJRfssfIA', 'bE7Yd0jI_P6g27MWEKKalA'), 0.002956172073819132),\n",
              " (('0FVcoJko1kfZCrJRfssfIA', 'KtE55izPs1ubJn3ofF2IrA'), 0.0029217137814422883),\n",
              " (('bSUS0YcvS7UelmHvCzNWBA', '7RCz4Ln_FaTvNrdwe251Dg'), 0.0028627852157264004),\n",
              " (('0FVcoJko1kfZCrJRfssfIA', '2quguRdKBzul3GpRi9e1mA'), 0.0028365746556306996),\n",
              " (('bSUS0YcvS7UelmHvCzNWBA', 'R4l3ONHzGBakKKNo4TN9iQ'), 0.002829752829752833),\n",
              " (('bSUS0YcvS7UelmHvCzNWBA', 'tRZAC_H5RHrjvyvtufcNXQ'), 0.002751620398679219),\n",
              " (('_VTEyUzzH92X3w-IpGaXVA', '7RCz4Ln_FaTvNrdwe251Dg'), 0.002740490975785101),\n",
              " (('_VTEyUzzH92X3w-IpGaXVA', 'cm3_8c_NDhPcpwJQ96Aixw'), 0.0026972674031497546),\n",
              " (('0FVcoJko1kfZCrJRfssfIA', 'sBqCpEUn0qYdpSF4DbWlAQ'), 0.002685745093036424),\n",
              " (('0FVcoJko1kfZCrJRfssfIA', '1KQi8Ymatd4ySAd4fhSfaw'), 0.002566140801434918),\n",
              " (('zBi_JWB5uUdVuz3JLoAxGQ', 'ay4M5J28kBUf0odOQct0BA'), 0.0024823075359301345),\n",
              " (('bSUS0YcvS7UelmHvCzNWBA', 'hqmnMdDS-Opjp3BfBJA8qA'), 0.0024809769391812685),\n",
              " (('kwIhn1_cnQeUaLN0CuWWHw', 'hilL60vuuh06sMxs6Ckkog'), 0.002477914242620125),\n",
              " (('0FVcoJko1kfZCrJRfssfIA', 'dW6bAWM1HbPdk_cGS_a2HA'), 0.0023379659602569894),\n",
              " (('e5kg9bLvlJz-MEUrGjIeVQ', 'UwV6jBuTR1S9acT6bPTBPw'), 0.0023229111464405576),\n",
              " (('LcCRMIDz1JgshpPGYfLDcA', 'y6jsaAXFstAJkf53R4_y4Q'), 0.0022524468225825693),\n",
              " (('bSUS0YcvS7UelmHvCzNWBA', 'bJguBxPlnTW29tRTAF0nkQ'), 0.002202309756903494),\n",
              " (('39FT2Ui8KUXwmUt6hnwy-g', 'dTeSvET2SR5LDF_J07wJAQ'), 0.002181630195449786),\n",
              " (('_VTEyUzzH92X3w-IpGaXVA', 'bJguBxPlnTW29tRTAF0nkQ'), 0.0021615450102563942),\n",
              " (('0FVcoJko1kfZCrJRfssfIA', 'qtOCfMTrozmUSHWIcohc6Q'), 0.0021245227127580104),\n",
              " (('39FT2Ui8KUXwmUt6hnwy-g', '_Pn-EmWO-pFPFg81ZIEiDw'), 0.0020812829636359105),\n",
              " (('dTeSvET2SR5LDF_J07wJAQ', 'ay4M5J28kBUf0odOQct0BA'), 0.0020534265640627376),\n",
              " (('bSUS0YcvS7UelmHvCzNWBA', '2quguRdKBzul3GpRi9e1mA'), 0.0019869848151679004),\n",
              " (('_VTEyUzzH92X3w-IpGaXVA', 'bHufZ2OTlC-OUxBDRXxViw'), 0.0018527577351106744),\n",
              " (('bSUS0YcvS7UelmHvCzNWBA', 'bHufZ2OTlC-OUxBDRXxViw'), 0.001852757735110674),\n",
              " (('dTeSvET2SR5LDF_J07wJAQ', '7RCz4Ln_FaTvNrdwe251Dg'), 0.001842825372237139),\n",
              " (('bSUS0YcvS7UelmHvCzNWBA', 'KtE55izPs1ubJn3ofF2IrA'), 0.0018257651741814631),\n",
              " (('_VTEyUzzH92X3w-IpGaXVA', 'KtE55izPs1ubJn3ofF2IrA'), 0.0017578239297696306),\n",
              " (('0FVcoJko1kfZCrJRfssfIA', 'tL2pS5UOmN6aAOi3Z-qFGg'), 0.0017463811581458644),\n",
              " (('ay4M5J28kBUf0odOQct0BA', 'y6jsaAXFstAJkf53R4_y4Q'), 0.0017374663886122058),\n",
              " (('_VTEyUzzH92X3w-IpGaXVA', '2quguRdKBzul3GpRi9e1mA'), 0.0017319786778088233),\n",
              " (('0FVcoJko1kfZCrJRfssfIA', '_Pn-EmWO-pFPFg81ZIEiDw'), 0.0017102267102267058),\n",
              " (('bE7Yd0jI_P6g27MWEKKalA', '7RCz4Ln_FaTvNrdwe251Dg'), 0.001676207558560502),\n",
              " (('zBi_JWB5uUdVuz3JLoAxGQ', 'e8uzNcSC5tQMD22GNAQEQA'), 0.0016626193096781323),\n",
              " (('0FVcoJko1kfZCrJRfssfIA', 'y6jsaAXFstAJkf53R4_y4Q'), 0.001660969308028127),\n",
              " (('0FVcoJko1kfZCrJRfssfIA', '4pc_EyanaC3ARh0MZZyouA'), 0.001659160482689895),\n",
              " (('MtdSCXtmrSxj_uZOJ5ZycQ', 'ZA1OT-PIZwz2kdHDA6mShw'), 0.0015908617718572485),\n",
              " (('bSUS0YcvS7UelmHvCzNWBA', 'sBqCpEUn0qYdpSF4DbWlAQ'), 0.0015757138156616167),\n",
              " (('_VTEyUzzH92X3w-IpGaXVA', 'sBqCpEUn0qYdpSF4DbWlAQ'), 0.0015417431934557006),\n",
              " (('bSUS0YcvS7UelmHvCzNWBA', '1KQi8Ymatd4ySAd4fhSfaw'), 0.001465492641963231),\n",
              " (('bE7Yd0jI_P6g27MWEKKalA', 'hqmnMdDS-Opjp3BfBJA8qA'), 0.001451052689442782),\n",
              " (('KLB3wIYUwKDPMbijIE92vg', '_Pn-EmWO-pFPFg81ZIEiDw'), 0.0014454985043220313),\n",
              " (('0FVcoJko1kfZCrJRfssfIA', 'zBi_JWB5uUdVuz3JLoAxGQ'), 0.001416785240314656),\n",
              " (('MtdSCXtmrSxj_uZOJ5ZycQ', 'jcriwcTidug0fK8sgAloHA'), 0.00139926746261588),\n",
              " (('bSUS0YcvS7UelmHvCzNWBA', 'dW6bAWM1HbPdk_cGS_a2HA'), 0.0013254150251054257),\n",
              " (('0FVcoJko1kfZCrJRfssfIA', 'dTeSvET2SR5LDF_J07wJAQ'), 0.0012863218745571689),\n",
              " (('_VTEyUzzH92X3w-IpGaXVA', 'dW6bAWM1HbPdk_cGS_a2HA'), 0.0012762237994436106),\n",
              " (('bSUS0YcvS7UelmHvCzNWBA', 'WoKCLSctS7G2547xKcED-Q'), 0.0012761306878953937),\n",
              " (('_VTEyUzzH92X3w-IpGaXVA', 'WoKCLSctS7G2547xKcED-Q'), 0.0012761306878953937),\n",
              " (('zBi_JWB5uUdVuz3JLoAxGQ', '7RCz4Ln_FaTvNrdwe251Dg'), 0.0012734777440659784),\n",
              " (('cyuDrrG5eEK-TZI867MUPA', 'ZZvfGGLnAkSBSUduV7KN-w'), 0.001182177652765888),\n",
              " (('cyuDrrG5eEK-TZI867MUPA', 'SVC0CajvmYfH5uAq4JnGvg'), 0.001182177652765888),\n",
              " (('bSUS0YcvS7UelmHvCzNWBA', 'qtOCfMTrozmUSHWIcohc6Q'), 0.0011393746687864373),\n",
              " (('_VTEyUzzH92X3w-IpGaXVA', 'qtOCfMTrozmUSHWIcohc6Q'), 0.0011257864199040706),\n",
              " (('pDNeS1nbkKS7mJmhRQJPig', 'SX_SMrddkDU5dySbsZMu9A'), 0.0011006481594716888),\n",
              " (('zBi_JWB5uUdVuz3JLoAxGQ', 'tRZAC_H5RHrjvyvtufcNXQ'), 0.0010899716782069725),\n",
              " (('bE7Yd0jI_P6g27MWEKKalA', 'KtE55izPs1ubJn3ofF2IrA'), 0.0010878105900730337),\n",
              " (('zBi_JWB5uUdVuz3JLoAxGQ', 'cm3_8c_NDhPcpwJQ96Aixw'), 0.001076383429324606),\n",
              " (('IuaAfrkirlfzY3f4PkgSmw', 'tekHDsd0fskYG3tqu4sHQw'), 0.001040859864389276),\n",
              " (('dTeSvET2SR5LDF_J07wJAQ', 'sBqCpEUn0qYdpSF4DbWlAQ'), 0.0010109110246917551),\n",
              " (('tekHDsd0fskYG3tqu4sHQw', 'e5kg9bLvlJz-MEUrGjIeVQ'), 0.0009810715693068632),\n",
              " (('39FT2Ui8KUXwmUt6hnwy-g', 'OoyQYSeYNyRVOmdO3tsxYA'), 0.0009352112293288768),\n",
              " (('bSUS0YcvS7UelmHvCzNWBA', 'y6jsaAXFstAJkf53R4_y4Q'), 0.0009090862032038542),\n",
              " (('bSUS0YcvS7UelmHvCzNWBA', '4pc_EyanaC3ARh0MZZyouA'), 0.0009072773778656134),\n",
              " (('bE7Yd0jI_P6g27MWEKKalA', 'sBqCpEUn0qYdpSF4DbWlAQ'), 0.0008904239894563363),\n",
              " (('bSUS0YcvS7UelmHvCzNWBA', '_VTEyUzzH92X3w-IpGaXVA'), 0.0008716391069332247),\n",
              " (('m1IVpXClMox1VGw5hO2LhQ', 'e5kg9bLvlJz-MEUrGjIeVQ'), 0.0008560596795890912),\n",
              " (('dzJDCQ5vubQBJTfYTEmcbg', '5fQ9P6kbQM_E0dx8DL6JWA'), 0.0008525561892610081),\n",
              " (('bSUS0YcvS7UelmHvCzNWBA', 'zBi_JWB5uUdVuz3JLoAxGQ'), 0.0008439758439758477),\n",
              " (('dTeSvET2SR5LDF_J07wJAQ', 'dW6bAWM1HbPdk_cGS_a2HA'), 0.0008407675590338105),\n",
              " (('zBi_JWB5uUdVuz3JLoAxGQ', 'bE7Yd0jI_P6g27MWEKKalA'), 0.0008290934761523027),\n",
              " (('bSUS0YcvS7UelmHvCzNWBA', 'bE7Yd0jI_P6g27MWEKKalA'), 0.0008230596465890583),\n",
              " (('bE7Yd0jI_P6g27MWEKKalA', 'dW6bAWM1HbPdk_cGS_a2HA'), 0.0007692999179067277),\n",
              " (('bSUS0YcvS7UelmHvCzNWBA', '_Pn-EmWO-pFPFg81ZIEiDw'), 0.0007522551640198715),\n",
              " (('_VTEyUzzH92X3w-IpGaXVA', 'bE7Yd0jI_P6g27MWEKKalA'), 0.0007428889781830958),\n",
              " (('bSUS0YcvS7UelmHvCzNWBA', 'tL2pS5UOmN6aAOi3Z-qFGg'), 0.0007374536786301493),\n",
              " (('bE7Yd0jI_P6g27MWEKKalA', '_Pn-EmWO-pFPFg81ZIEiDw'), 0.0007192551310198378),\n",
              " (('bE7Yd0jI_P6g27MWEKKalA', 'y6jsaAXFstAJkf53R4_y4Q'), 0.0007107624754683586),\n",
              " (('_VTEyUzzH92X3w-IpGaXVA', 'tL2pS5UOmN6aAOi3Z-qFGg'), 0.000710277180865416),\n",
              " (('zBi_JWB5uUdVuz3JLoAxGQ', '4pc_EyanaC3ARh0MZZyouA'), 0.0007037771743654107),\n",
              " (('_VTEyUzzH92X3w-IpGaXVA', '_Pn-EmWO-pFPFg81ZIEiDw'), 0.0006979021684904042),\n",
              " (('_Pn-EmWO-pFPFg81ZIEiDw', 'ay4M5J28kBUf0odOQct0BA'), 0.0006696094931389046),\n",
              " (('_VTEyUzzH92X3w-IpGaXVA', 'y6jsaAXFstAJkf53R4_y4Q'), 0.0006639977228212518),\n",
              " (('pDNeS1nbkKS7mJmhRQJPig', 'YA-caxALI4C-eCiSM97new'), 0.0006624271330153682),\n",
              " (('zBi_JWB5uUdVuz3JLoAxGQ', '2quguRdKBzul3GpRi9e1mA'), 0.0006552386101958084),\n",
              " (('4pc_EyanaC3ARh0MZZyouA', 'dW6bAWM1HbPdk_cGS_a2HA'), 0.0006260799604452873),\n",
              " (('4pc_EyanaC3ARh0MZZyouA', 'y6jsaAXFstAJkf53R4_y4Q'), 0.0006126712009064945),\n",
              " (('m1IVpXClMox1VGw5hO2LhQ', 'tekHDsd0fskYG3tqu4sHQw'), 0.0006114711997064938),\n",
              " (('pDNeS1nbkKS7mJmhRQJPig', 'B7IvZ26ZUdL2jGbYsFVGxQ'), 0.0006012800130447187),\n",
              " (('zBi_JWB5uUdVuz3JLoAxGQ', 'dW6bAWM1HbPdk_cGS_a2HA'), 0.0006002555538159254),\n",
              " (('_VTEyUzzH92X3w-IpGaXVA', 'zBi_JWB5uUdVuz3JLoAxGQ'), 0.000592093239152062),\n",
              " (('bE7Yd0jI_P6g27MWEKKalA', 'WoKCLSctS7G2547xKcED-Q'), 0.0005919138272079447),\n",
              " (('pDNeS1nbkKS7mJmhRQJPig', 'Gua5GdTlTWJpovtG7Hdtyg'), 0.0005910888263829438),\n",
              " (('dTeSvET2SR5LDF_J07wJAQ', 'y6jsaAXFstAJkf53R4_y4Q'), 0.0005836152894976419),\n",
              " (('pDNeS1nbkKS7mJmhRQJPig', 'jnn504CkjtfbYIwBquWmBw'), 0.0005605152663976191),\n",
              " (('QvLg2kxqHHahxxOlHlEIZw', 'jnn504CkjtfbYIwBquWmBw'), 0.0005401328930740694),\n",
              " (('A-U-K9z9oraMH7eBZW1dOA', 'ZZvfGGLnAkSBSUduV7KN-w'), 0.0005299417064122947),\n",
              " (('A-U-K9z9oraMH7eBZW1dOA', 'SVC0CajvmYfH5uAq4JnGvg'), 0.0005299417064122947),\n",
              " (('QvLg2kxqHHahxxOlHlEIZw', 'YA-caxALI4C-eCiSM97new'), 0.0005197505197505196),\n",
              " (('QvLg2kxqHHahxxOlHlEIZw', 'B7IvZ26ZUdL2jGbYsFVGxQ'), 0.0004993681464269698),\n",
              " (('Gua5GdTlTWJpovtG7Hdtyg', 'QvLg2kxqHHahxxOlHlEIZw'), 0.000489176959765195),\n",
              " (('zBi_JWB5uUdVuz3JLoAxGQ', 'dTeSvET2SR5LDF_J07wJAQ'),\n",
              "  0.00047458576870341524),\n",
              " (('LcCRMIDz1JgshpPGYfLDcA', '2quguRdKBzul3GpRi9e1mA'),\n",
              "  0.00040447687506511035),\n",
              " (('ajxohdcsKhRGFlEvHZDyTw', '5DgFmyjW6hkBtXtTMKl4tA'),\n",
              "  0.00037367684426507954),\n",
              " (('bSUS0YcvS7UelmHvCzNWBA', 'dTeSvET2SR5LDF_J07wJAQ'), 0.0003691150749974279),\n",
              " (('y6jsaAXFstAJkf53R4_y4Q', '2quguRdKBzul3GpRi9e1mA'), 0.0003682955261513992),\n",
              " (('9S52XHEyrvOv4OZxU6pCLw', 'JqjAthJThuVYgTh4iWDZ2A'),\n",
              "  0.00036008859538271297),\n",
              " (('IuaAfrkirlfzY3f4PkgSmw', 'ZA1OT-PIZwz2kdHDA6mShw'),\n",
              "  0.00035872977049447634),\n",
              " (('_VTEyUzzH92X3w-IpGaXVA', 'dTeSvET2SR5LDF_J07wJAQ'), 0.0003249532661297367),\n",
              " (('cyuDrrG5eEK-TZI867MUPA', 'A-U-K9z9oraMH7eBZW1dOA'), 0.0003159267865150219),\n",
              " (('bE7Yd0jI_P6g27MWEKKalA', 'tL2pS5UOmN6aAOi3Z-qFGg'), 0.0002742885095826272),\n",
              " (('bE7Yd0jI_P6g27MWEKKalA', 'dTeSvET2SR5LDF_J07wJAQ'),\n",
              "  0.00023818259112376761),\n",
              " (('_Pn-EmWO-pFPFg81ZIEiDw', 'y6jsaAXFstAJkf53R4_y4Q'),\n",
              "  0.00019775755069872716),\n",
              " (('zBi_JWB5uUdVuz3JLoAxGQ', 'y6jsaAXFstAJkf53R4_y4Q'),\n",
              "  0.00016718399071340248),\n",
              " (('ajxohdcsKhRGFlEvHZDyTw', '7G8w2SnaC-qDVQ7_GqTxMg'),\n",
              "  0.00016305898658839835),\n",
              " (('_6Zg4ukwS0kst9UtkfVw3w', 'lJFBgSAccsMGwIjfD7LMeQ'),\n",
              "  0.00016305898658839835),\n",
              " (('Cf0chERnfd06ltnN45xLNQ', 'lL-wNa0TKK6LXrlcVmjYrQ'),\n",
              "  0.00016305898658839835),\n",
              " (('Cf0chERnfd06ltnN45xLNQ', 'ZW-XoteNlRuuK-19q1spmw'),\n",
              "  0.00016305898658839835),\n",
              " (('Cf0chERnfd06ltnN45xLNQ', 'JhFK9D3LYl23Se3x4oPUxA'),\n",
              "  0.00016305898658839835),\n",
              " (('Cf0chERnfd06ltnN45xLNQ', 'CyrRjt_7iJ8_lSHeH1_TlA'),\n",
              "  0.00016305898658839835),\n",
              " (('pDNeS1nbkKS7mJmhRQJPig', 'QvLg2kxqHHahxxOlHlEIZw'),\n",
              "  0.00014267661326484855),\n",
              " (('2quguRdKBzul3GpRi9e1mA', 'KtE55izPs1ubJn3ofF2IrA'), 0.0001386001386001386),\n",
              " (('oegRUjhGbP62M18WyAL6pQ', 'wXdrUQg4-VkSZH1FG4Byzw'),\n",
              "  0.00013588248882366529),\n",
              " (('ajxohdcsKhRGFlEvHZDyTw', 'NUtVG7jNPLJR2cxMXMH2-A'),\n",
              "  0.00013588248882366529),\n",
              " (('DPtOaWemjBPvFiZJBi0m8A', 'cIbbfJEGLB3B-c8Po4AL5g'),\n",
              "  0.00012908836438248203),\n",
              " (('tX0r-C9BaHYEolRUfufTsQ', 'xhlcoVm3FOKcxZ0phkdO6Q'),\n",
              "  0.00012229423994129877),\n",
              " (('tX0r-C9BaHYEolRUfufTsQ', 'drTMOo4p8nL0pnMNEyat2A'),\n",
              "  0.00012229423994129877),\n",
              " (('lJFBgSAccsMGwIjfD7LMeQ', 'Gr-MqCunME2K_KmsAwjpTA'),\n",
              "  0.00012229423994129877),\n",
              " (('_6Zg4ukwS0kst9UtkfVw3w', 'QRsuZ_LqrRU65dTs5CL4Lw'),\n",
              "  0.00012229423994129877),\n",
              " (('CLbpPUqP6XpeAfoqScGaJQ', 'tX0r-C9BaHYEolRUfufTsQ'),\n",
              "  0.00012229423994129877),\n",
              " (('EiwxlbR8fb68lMgEXhcWKA', 'SdXxLZQQnQNUEL1rGMOQ6w'),\n",
              "  0.00010191186661774896),\n",
              " (('EiwxlbR8fb68lMgEXhcWKA', '97j2wkFU46OOgm6ErRAb7w'),\n",
              "  0.00010191186661774896),\n",
              " (('Gua5GdTlTWJpovtG7Hdtyg', 'jnn504CkjtfbYIwBquWmBw'), 9.172067995597408e-05),\n",
              " (('XrRLaAeV20MRwdSIGjj2SQ', 'BDmxm7aeWFOLT35gSvkmig'), 8.152949329419917e-05),\n",
              " (('QYKexxaOJQlseGWmc6soRg', 'MJ0Wphhko2-LbJ0uZ5XyQA'), 8.152949329419917e-05),\n",
              " (('HLY9oDcVBH9D25lU4X_V5Q', 'Hv_q_ZnSIoZwdcoH0CyV2Q'), 8.152949329419917e-05),\n",
              " (('B7IvZ26ZUdL2jGbYsFVGxQ', 'jnn504CkjtfbYIwBquWmBw'), 8.152949329419917e-05),\n",
              " (('98rLDXbloLXekGjieuQSlA', 'QYKexxaOJQlseGWmc6soRg'), 8.152949329419917e-05),\n",
              " (('0QREkWHGO8-Z_70qx1BIWw', 'tAcY4S3vIuNlAoRlCcz5VA'), 8.152949329419917e-05),\n",
              " (('0QREkWHGO8-Z_70qx1BIWw', 'KHjroLTG6Ah8LyItTyB2yw'), 8.152949329419917e-05),\n",
              " (('Gua5GdTlTWJpovtG7Hdtyg', 'YA-caxALI4C-eCiSM97new'), 7.133830663242427e-05),\n",
              " (('XrRLaAeV20MRwdSIGjj2SQ', '6xi9tBoZ6r_v41u_XFsSnA'), 6.114711997064938e-05),\n",
              " (('XrRLaAeV20MRwdSIGjj2SQ', '2GUjO7NU88cPXpoffYCU8w'), 6.114711997064938e-05),\n",
              " (('4ZQq0ozRs-gXSz1z55iIDw', 'oegRUjhGbP62M18WyAL6pQ'), 5.435299552946611e-05),\n",
              " (('Gua5GdTlTWJpovtG7Hdtyg', 'B7IvZ26ZUdL2jGbYsFVGxQ'), 5.095593330887448e-05),\n",
              " (('vENR70IrUsDNTDebbuxyQA', '_m1ot2zZetDgjerAD2Sidg'), 4.076474664709959e-05),\n",
              " (('tcWnoX_IfuDmlDl6o6y3_g', 'k58KNO8Rya-q8njKq8-uBQ'), 4.076474664709959e-05),\n",
              " (('tcWnoX_IfuDmlDl6o6y3_g', 'h-ajC_UHD0QAyAzySN6g2A'), 4.076474664709959e-05),\n",
              " (('tcWnoX_IfuDmlDl6o6y3_g', 'ae7zi8F0B6l_JCITh1mXDg'), 4.076474664709959e-05),\n",
              " (('tcWnoX_IfuDmlDl6o6y3_g', 'ZXyGw3Z1DyhK1sfNtpcyYA'), 4.076474664709959e-05),\n",
              " (('tcWnoX_IfuDmlDl6o6y3_g', 'WXlxViTwXHPBvhioljN9PQ'), 4.076474664709959e-05),\n",
              " (('tcWnoX_IfuDmlDl6o6y3_g', 'Nf_Jw_W_CwOz5WJ7ApSMxg'), 4.076474664709959e-05),\n",
              " (('tcWnoX_IfuDmlDl6o6y3_g', 'FyQrUamokaPLDrBxGmzPnA'), 4.076474664709959e-05),\n",
              " (('tcWnoX_IfuDmlDl6o6y3_g', 'EI9ijI9Wh66LrVW-GmWkOg'), 4.076474664709959e-05),\n",
              " (('tcWnoX_IfuDmlDl6o6y3_g', 'DgfsJqg_gozVgaeZ5vjllA'), 4.076474664709959e-05),\n",
              " (('tcWnoX_IfuDmlDl6o6y3_g', 'BE4fE4R3TaVn8xy4sYYjbg'), 4.076474664709959e-05),\n",
              " (('tcWnoX_IfuDmlDl6o6y3_g', '9SWtEX1k9AjRg93BAzMCpg'), 4.076474664709959e-05),\n",
              " (('mm9WYrFhiNqvHCyhQKw3Mg', 'S1cjSFKcS5NVc3o1MkfpwA'), 4.076474664709959e-05),\n",
              " (('k58KNO8Rya-q8njKq8-uBQ', 'h-ajC_UHD0QAyAzySN6g2A'), 4.076474664709959e-05),\n",
              " (('k58KNO8Rya-q8njKq8-uBQ', 'ZXyGw3Z1DyhK1sfNtpcyYA'), 4.076474664709959e-05),\n",
              " (('k58KNO8Rya-q8njKq8-uBQ', 'WXlxViTwXHPBvhioljN9PQ'), 4.076474664709959e-05),\n",
              " (('k58KNO8Rya-q8njKq8-uBQ', 'FyQrUamokaPLDrBxGmzPnA'), 4.076474664709959e-05),\n",
              " (('k58KNO8Rya-q8njKq8-uBQ', 'DgfsJqg_gozVgaeZ5vjllA'), 4.076474664709959e-05),\n",
              " (('k58KNO8Rya-q8njKq8-uBQ', 'BE4fE4R3TaVn8xy4sYYjbg'), 4.076474664709959e-05),\n",
              " (('k58KNO8Rya-q8njKq8-uBQ', '9SWtEX1k9AjRg93BAzMCpg'), 4.076474664709959e-05),\n",
              " (('jSbXY_rno4hYHQCFftsWXg', '3Vd_ATdvvuVVgn_YCpz8fw'), 4.076474664709959e-05),\n",
              " (('h-ajC_UHD0QAyAzySN6g2A', 'ZXyGw3Z1DyhK1sfNtpcyYA'), 4.076474664709959e-05),\n",
              " (('h-ajC_UHD0QAyAzySN6g2A', 'FyQrUamokaPLDrBxGmzPnA'), 4.076474664709959e-05),\n",
              " (('h-ajC_UHD0QAyAzySN6g2A', 'DgfsJqg_gozVgaeZ5vjllA'), 4.076474664709959e-05),\n",
              " (('h-ajC_UHD0QAyAzySN6g2A', 'BE4fE4R3TaVn8xy4sYYjbg'), 4.076474664709959e-05),\n",
              " (('h-ajC_UHD0QAyAzySN6g2A', '9SWtEX1k9AjRg93BAzMCpg'), 4.076474664709959e-05),\n",
              " (('gUu0uaiU7UEUVIgCdnqPVQ', 'jJDUCuPwVqwjbth3s92whA'), 4.076474664709959e-05),\n",
              " (('gH0dJQhyKUOVCKQA6sqAnw', '453V8MlGr8y61PpsDAFjKQ'), 4.076474664709959e-05),\n",
              " (('frQs7y5qa-X1pvAM0sJe1w', 'angEr2YcXmCl20s8WQu32w'), 4.076474664709959e-05),\n",
              " (('frQs7y5qa-X1pvAM0sJe1w', '6YmRpoIuiq8I19Q8dHKTHw'), 4.076474664709959e-05),\n",
              " (('eqWEgMH-DCP74i82BEAZzw', '23y0Nv9FFWn_3UWudpnFMA'), 4.076474664709959e-05),\n",
              " (('d5WLqmTMvmL7-RmUDVKqqQ', 'Si3aMsOVGSVlsc54iuiPwA'), 4.076474664709959e-05),\n",
              " (('angEr2YcXmCl20s8WQu32w', '6YmRpoIuiq8I19Q8dHKTHw'), 4.076474664709959e-05),\n",
              " (('ae7zi8F0B6l_JCITh1mXDg', 'k58KNO8Rya-q8njKq8-uBQ'), 4.076474664709959e-05),\n",
              " (('ae7zi8F0B6l_JCITh1mXDg', 'h-ajC_UHD0QAyAzySN6g2A'), 4.076474664709959e-05),\n",
              " (('ae7zi8F0B6l_JCITh1mXDg', 'ZXyGw3Z1DyhK1sfNtpcyYA'), 4.076474664709959e-05),\n",
              " (('ae7zi8F0B6l_JCITh1mXDg', 'WXlxViTwXHPBvhioljN9PQ'), 4.076474664709959e-05),\n",
              " (('ae7zi8F0B6l_JCITh1mXDg', 'Nf_Jw_W_CwOz5WJ7ApSMxg'), 4.076474664709959e-05),\n",
              " (('ae7zi8F0B6l_JCITh1mXDg', 'FyQrUamokaPLDrBxGmzPnA'), 4.076474664709959e-05),\n",
              " (('ae7zi8F0B6l_JCITh1mXDg', 'EI9ijI9Wh66LrVW-GmWkOg'), 4.076474664709959e-05),\n",
              " (('ae7zi8F0B6l_JCITh1mXDg', 'DgfsJqg_gozVgaeZ5vjllA'), 4.076474664709959e-05),\n",
              " (('ae7zi8F0B6l_JCITh1mXDg', 'BE4fE4R3TaVn8xy4sYYjbg'), 4.076474664709959e-05),\n",
              " (('ae7zi8F0B6l_JCITh1mXDg', '9SWtEX1k9AjRg93BAzMCpg'), 4.076474664709959e-05),\n",
              " (('ZZvfGGLnAkSBSUduV7KN-w', 'SVC0CajvmYfH5uAq4JnGvg'), 4.076474664709959e-05),\n",
              " (('ZXyGw3Z1DyhK1sfNtpcyYA', '9SWtEX1k9AjRg93BAzMCpg'), 4.076474664709959e-05),\n",
              " (('Z9a1tDT8fVI75qXYwNhPpw', 'Ih85YhFRDzOnB09yS__94g'), 4.076474664709959e-05),\n",
              " (('YVQFzWm0H72mLUh-8gzd5w', '46HhzhpBfTdTSB5ceTx_Og'), 4.076474664709959e-05),\n",
              " (('WXlxViTwXHPBvhioljN9PQ', 'h-ajC_UHD0QAyAzySN6g2A'), 4.076474664709959e-05),\n",
              " (('WXlxViTwXHPBvhioljN9PQ', 'ZXyGw3Z1DyhK1sfNtpcyYA'), 4.076474664709959e-05),\n",
              " (('WXlxViTwXHPBvhioljN9PQ', 'FyQrUamokaPLDrBxGmzPnA'), 4.076474664709959e-05),\n",
              " (('WXlxViTwXHPBvhioljN9PQ', 'DgfsJqg_gozVgaeZ5vjllA'), 4.076474664709959e-05),\n",
              " (('WXlxViTwXHPBvhioljN9PQ', 'BE4fE4R3TaVn8xy4sYYjbg'), 4.076474664709959e-05),\n",
              " (('WXlxViTwXHPBvhioljN9PQ', '9SWtEX1k9AjRg93BAzMCpg'), 4.076474664709959e-05),\n",
              " (('UmTMCfPlhA6kJLAsLycSfg', '9W73B44Iw8WslrTNB2CdCg'), 4.076474664709959e-05),\n",
              " (('Nf_Jw_W_CwOz5WJ7ApSMxg', 'k58KNO8Rya-q8njKq8-uBQ'), 4.076474664709959e-05),\n",
              " (('Nf_Jw_W_CwOz5WJ7ApSMxg', 'h-ajC_UHD0QAyAzySN6g2A'), 4.076474664709959e-05),\n",
              " (('Nf_Jw_W_CwOz5WJ7ApSMxg', 'ZXyGw3Z1DyhK1sfNtpcyYA'), 4.076474664709959e-05),\n",
              " (('Nf_Jw_W_CwOz5WJ7ApSMxg', 'WXlxViTwXHPBvhioljN9PQ'), 4.076474664709959e-05),\n",
              " (('Nf_Jw_W_CwOz5WJ7ApSMxg', 'FyQrUamokaPLDrBxGmzPnA'), 4.076474664709959e-05),\n",
              " (('Nf_Jw_W_CwOz5WJ7ApSMxg', 'EI9ijI9Wh66LrVW-GmWkOg'), 4.076474664709959e-05),\n",
              " (('Nf_Jw_W_CwOz5WJ7ApSMxg', 'DgfsJqg_gozVgaeZ5vjllA'), 4.076474664709959e-05),\n",
              " (('Nf_Jw_W_CwOz5WJ7ApSMxg', 'BE4fE4R3TaVn8xy4sYYjbg'), 4.076474664709959e-05),\n",
              " (('Nf_Jw_W_CwOz5WJ7ApSMxg', '9SWtEX1k9AjRg93BAzMCpg'), 4.076474664709959e-05),\n",
              " (('LaiylSIbrA3aPvOYtl-J4A', 'ZEq0WtRJD9Bl_vYgCsbfOg'), 4.076474664709959e-05),\n",
              " (('LKP0Yq9T7Ss6oiDZnVtQwQ', 'tcWnoX_IfuDmlDl6o6y3_g'), 4.076474664709959e-05),\n",
              " (('LKP0Yq9T7Ss6oiDZnVtQwQ', 'k58KNO8Rya-q8njKq8-uBQ'), 4.076474664709959e-05),\n",
              " (('LKP0Yq9T7Ss6oiDZnVtQwQ', 'h-ajC_UHD0QAyAzySN6g2A'), 4.076474664709959e-05),\n",
              " (('LKP0Yq9T7Ss6oiDZnVtQwQ', 'ae7zi8F0B6l_JCITh1mXDg'), 4.076474664709959e-05),\n",
              " (('LKP0Yq9T7Ss6oiDZnVtQwQ', 'ZXyGw3Z1DyhK1sfNtpcyYA'), 4.076474664709959e-05),\n",
              " (('LKP0Yq9T7Ss6oiDZnVtQwQ', 'WXlxViTwXHPBvhioljN9PQ'), 4.076474664709959e-05),\n",
              " (('LKP0Yq9T7Ss6oiDZnVtQwQ', 'Nf_Jw_W_CwOz5WJ7ApSMxg'), 4.076474664709959e-05),\n",
              " (('LKP0Yq9T7Ss6oiDZnVtQwQ', 'FyQrUamokaPLDrBxGmzPnA'), 4.076474664709959e-05),\n",
              " (('LKP0Yq9T7Ss6oiDZnVtQwQ', 'EI9ijI9Wh66LrVW-GmWkOg'), 4.076474664709959e-05),\n",
              " (('LKP0Yq9T7Ss6oiDZnVtQwQ', 'DgfsJqg_gozVgaeZ5vjllA'), 4.076474664709959e-05),\n",
              " (('LKP0Yq9T7Ss6oiDZnVtQwQ', 'BE4fE4R3TaVn8xy4sYYjbg'), 4.076474664709959e-05),\n",
              " (('LKP0Yq9T7Ss6oiDZnVtQwQ', '9SWtEX1k9AjRg93BAzMCpg'), 4.076474664709959e-05),\n",
              " (('KHjroLTG6Ah8LyItTyB2yw', 'tAcY4S3vIuNlAoRlCcz5VA'), 4.076474664709959e-05),\n",
              " (('FyQrUamokaPLDrBxGmzPnA', 'ZXyGw3Z1DyhK1sfNtpcyYA'), 4.076474664709959e-05),\n",
              " (('FyQrUamokaPLDrBxGmzPnA', 'DgfsJqg_gozVgaeZ5vjllA'), 4.076474664709959e-05),\n",
              " (('FyQrUamokaPLDrBxGmzPnA', '9SWtEX1k9AjRg93BAzMCpg'), 4.076474664709959e-05),\n",
              " (('F47atsRPw-KHmRVk5exBFw', 'JeOHA8tW7gr-FDYOcPJoeA'), 4.076474664709959e-05),\n",
              " (('EI9ijI9Wh66LrVW-GmWkOg', 'k58KNO8Rya-q8njKq8-uBQ'), 4.076474664709959e-05),\n",
              " (('EI9ijI9Wh66LrVW-GmWkOg', 'h-ajC_UHD0QAyAzySN6g2A'), 4.076474664709959e-05),\n",
              " (('EI9ijI9Wh66LrVW-GmWkOg', 'ZXyGw3Z1DyhK1sfNtpcyYA'), 4.076474664709959e-05),\n",
              " (('EI9ijI9Wh66LrVW-GmWkOg', 'WXlxViTwXHPBvhioljN9PQ'), 4.076474664709959e-05),\n",
              " (('EI9ijI9Wh66LrVW-GmWkOg', 'FyQrUamokaPLDrBxGmzPnA'), 4.076474664709959e-05),\n",
              " (('EI9ijI9Wh66LrVW-GmWkOg', 'DgfsJqg_gozVgaeZ5vjllA'), 4.076474664709959e-05),\n",
              " (('EI9ijI9Wh66LrVW-GmWkOg', 'BE4fE4R3TaVn8xy4sYYjbg'), 4.076474664709959e-05),\n",
              " (('EI9ijI9Wh66LrVW-GmWkOg', '9SWtEX1k9AjRg93BAzMCpg'), 4.076474664709959e-05),\n",
              " (('DgfsJqg_gozVgaeZ5vjllA', 'ZXyGw3Z1DyhK1sfNtpcyYA'), 4.076474664709959e-05),\n",
              " (('DgfsJqg_gozVgaeZ5vjllA', '9SWtEX1k9AjRg93BAzMCpg'), 4.076474664709959e-05),\n",
              " (('BE4fE4R3TaVn8xy4sYYjbg', 'ZXyGw3Z1DyhK1sfNtpcyYA'), 4.076474664709959e-05),\n",
              " (('BE4fE4R3TaVn8xy4sYYjbg', 'FyQrUamokaPLDrBxGmzPnA'), 4.076474664709959e-05),\n",
              " (('BE4fE4R3TaVn8xy4sYYjbg', 'DgfsJqg_gozVgaeZ5vjllA'), 4.076474664709959e-05),\n",
              " (('BE4fE4R3TaVn8xy4sYYjbg', '9SWtEX1k9AjRg93BAzMCpg'), 4.076474664709959e-05),\n",
              " (('2GUjO7NU88cPXpoffYCU8w', '6xi9tBoZ6r_v41u_XFsSnA'), 4.076474664709959e-05)]"
            ]
          },
          "metadata": {},
          "execution_count": 109
        }
      ]
    },
    {
      "cell_type": "markdown",
      "source": [
        "Save output file of betweenees calculation"
      ],
      "metadata": {
        "id": "Q_t2EiCwsMhQ"
      }
    },
    {
      "cell_type": "code",
      "source": [
        "with open('betweenness.txt', \"w+\") as fp:\n",
        "    for i in sorted_bc:\n",
        "        string_to_write = str(i[0])\n",
        "        string_to_write += \", \" + str(i[1])\n",
        "        fp.write(string_to_write)\n",
        "        fp.write(\"\\n\")\n",
        "\n",
        "    fp.close()"
      ],
      "metadata": {
        "id": "QQf3yjXVpWZq"
      },
      "execution_count": null,
      "outputs": []
    },
    {
      "cell_type": "markdown",
      "source": [
        "# 4.2 Community Detection with Girvan Newman algorithm"
      ],
      "metadata": {
        "id": "WnCgHgAzK_tq"
      }
    },
    {
      "cell_type": "markdown",
      "source": [
        "Apply girvan_newman function of NetworkX lib for graph G"
      ],
      "metadata": {
        "id": "NLm3Xm5OsoRJ"
      }
    },
    {
      "cell_type": "code",
      "source": [
        "com = community.girvan_newman(G)\n",
        "com_lst = list(com)"
      ],
      "metadata": {
        "id": "l7Mw9gNlk3rW"
      },
      "execution_count": null,
      "outputs": []
    },
    {
      "cell_type": "markdown",
      "source": [
        "## Detect community with global highest modularity"
      ],
      "metadata": {
        "id": "tDDSrXz4s-x-"
      }
    },
    {
      "cell_type": "markdown",
      "source": [
        "Set paRam - Resolution = 1 (Popular choice)"
      ],
      "metadata": {
        "id": "mBaYjFGYrh4C"
      }
    },
    {
      "cell_type": "code",
      "source": [
        "highest_modularity = 0\n",
        "communities = []\n",
        "modularity_nx = []\n",
        "for i in com_lst:\n",
        "  modularity = community.modularity(G, i, resolution = 1)\n",
        "  modularity_nx.append(modularity)\n",
        "  #print(modularity)\n",
        "\n",
        "  if modularity > highest_modularity:\n",
        "    highest_modularity = modularity\n",
        "    communities = [sorted(x) for x in i]"
      ],
      "metadata": {
        "id": "8-yWnYfil9sQ"
      },
      "execution_count": null,
      "outputs": []
    },
    {
      "cell_type": "markdown",
      "source": [
        "Max modularity"
      ],
      "metadata": {
        "id": "QLtqSofMr7Uu"
      }
    },
    {
      "cell_type": "code",
      "source": [
        "print(highest_modularity)"
      ],
      "metadata": {
        "colab": {
          "base_uri": "https://localhost:8080/"
        },
        "id": "nipFNHBcnR3E",
        "outputId": "daa1965f-5d30-4f14-d6f5-40ec231b2d71"
      },
      "execution_count": null,
      "outputs": [
        {
          "output_type": "stream",
          "name": "stdout",
          "text": [
            "0.6872550442734795\n"
          ]
        }
      ]
    },
    {
      "cell_type": "markdown",
      "source": [
        "Number of community"
      ],
      "metadata": {
        "id": "iKkUdq5NnANd"
      }
    },
    {
      "cell_type": "code",
      "source": [
        "len(communities)"
      ],
      "metadata": {
        "colab": {
          "base_uri": "https://localhost:8080/"
        },
        "id": "Vrh2q-tdm3In",
        "outputId": "4140b290-baa2-4e88-cf73-8b1056e80607"
      },
      "execution_count": null,
      "outputs": [
        {
          "output_type": "execute_result",
          "data": {
            "text/plain": [
              "19"
            ]
          },
          "metadata": {},
          "execution_count": 93
        }
      ]
    },
    {
      "cell_type": "markdown",
      "source": [
        "-------------------------------------------------------------\n",
        "Sort communities based on requirements:\n",
        "  * Sort the communities ascendingly by their sizes\n",
        "  * Sort by user_id1, then user_id2 in lexicographical order"
      ],
      "metadata": {
        "id": "xUzDlsU7uCmO"
      }
    },
    {
      "cell_type": "code",
      "source": [
        "#Sort communities by lenght of nodes & lexicographical\n",
        "communities.sort(key = lambda x: (len(x),x))"
      ],
      "metadata": {
        "id": "_hClcDIktlth"
      },
      "execution_count": null,
      "outputs": []
    },
    {
      "cell_type": "code",
      "source": [
        "community_size = {}\n",
        "for i in communities:\n",
        "  length = len(i)\n",
        "  if length not in community_size:\n",
        "    community_size[length] = 1\n",
        "  else:\n",
        "    community_size[length] += 1"
      ],
      "metadata": {
        "id": "O6Li0m7ats0n"
      },
      "execution_count": null,
      "outputs": []
    },
    {
      "cell_type": "markdown",
      "source": [
        "## Display size of communities (1)"
      ],
      "metadata": {
        "id": "YxaCLc_Hu1gu"
      }
    },
    {
      "cell_type": "code",
      "source": [
        "community_size"
      ],
      "metadata": {
        "colab": {
          "base_uri": "https://localhost:8080/"
        },
        "id": "pcSXHcyvt4NF",
        "outputId": "440ec922-90a2-42cd-8fde-dd5b6f553a5b"
      },
      "execution_count": null,
      "outputs": [
        {
          "output_type": "execute_result",
          "data": {
            "text/plain": [
              "{2: 8, 3: 2, 4: 2, 5: 1, 6: 1, 11: 1, 14: 1, 33: 1, 46: 1, 77: 1}"
            ]
          },
          "metadata": {},
          "execution_count": 96
        }
      ]
    },
    {
      "cell_type": "markdown",
      "source": [
        "Save output file of new community"
      ],
      "metadata": {
        "id": "wkzvz96GuHFG"
      }
    },
    {
      "cell_type": "code",
      "source": [
        "file = open(\"gm_communities1.txt\", \"w\")\n",
        "for i in communities:\n",
        "  for j in i:\n",
        "    file.write(\"'\" + str(j) + \"',\")\n",
        "  file.seek(file.tell()-1)\n",
        "  file.write(\"\\n\")\n",
        "file.close()"
      ],
      "metadata": {
        "id": "vK2Ht4e1uGxw"
      },
      "execution_count": null,
      "outputs": []
    },
    {
      "cell_type": "markdown",
      "source": [
        "Set paRam - Resolution = 3 (For dividing community with 1 node)"
      ],
      "metadata": {
        "id": "despGzqUruVQ"
      }
    },
    {
      "cell_type": "code",
      "source": [
        "highest_modularity = 0\n",
        "communities1 = []\n",
        "modularity_nx = []\n",
        "for i in com_lst:\n",
        "  modularity = community.modularity(G, i, resolution = 3)\n",
        "  modularity_nx.append(modularity)\n",
        "  #print(modularity)\n",
        "\n",
        "  if modularity > highest_modularity:\n",
        "    highest_modularity = modularity\n",
        "    communities1 = [sorted(x) for x in i]"
      ],
      "metadata": {
        "id": "4DlpEu-sru0F"
      },
      "execution_count": null,
      "outputs": []
    },
    {
      "cell_type": "markdown",
      "source": [
        "Max modularity"
      ],
      "metadata": {
        "id": "Q60c_1X3r-1N"
      }
    },
    {
      "cell_type": "code",
      "source": [
        "print(highest_modularity)"
      ],
      "metadata": {
        "colab": {
          "base_uri": "https://localhost:8080/"
        },
        "id": "h9BMBtL2r5gI",
        "outputId": "f53f6a68-cd4f-4006-f446-dad311ac315a"
      },
      "execution_count": null,
      "outputs": [
        {
          "output_type": "stream",
          "name": "stdout",
          "text": [
            "0.31512193351720136\n"
          ]
        }
      ]
    },
    {
      "cell_type": "markdown",
      "source": [
        "Number of community"
      ],
      "metadata": {
        "id": "cokQ_lMdsBlx"
      }
    },
    {
      "cell_type": "code",
      "source": [
        "len(communities1)"
      ],
      "metadata": {
        "colab": {
          "base_uri": "https://localhost:8080/"
        },
        "id": "3w91g_tMsBCZ",
        "outputId": "a6100524-4c09-4367-a0f8-35f4366a8e12"
      },
      "execution_count": null,
      "outputs": [
        {
          "output_type": "execute_result",
          "data": {
            "text/plain": [
              "36"
            ]
          },
          "metadata": {},
          "execution_count": 100
        }
      ]
    },
    {
      "cell_type": "markdown",
      "source": [
        "<center>Highest Modularity for 5 resolutions\n",
        "\n",
        "\n",
        "Resolution | Highest Modularity\n",
        "--- | ---\n",
        "1   | 0.6872550442734795\n",
        "2   | 0.47380284188964694\n",
        "3   | 0.31512193351720136\n",
        "4   | 0.1630054353962033\n",
        "5   | 0.04858187771164977"
      ],
      "metadata": {
        "id": "LoDg1_xE07k0"
      }
    }
  ]
}